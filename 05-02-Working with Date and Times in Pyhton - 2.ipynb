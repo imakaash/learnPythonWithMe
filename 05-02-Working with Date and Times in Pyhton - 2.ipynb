{
 "cells": [
  {
   "cell_type": "markdown",
   "metadata": {},
   "source": [
    "# Dates and Times in Pandas\n",
    "\n",
    "To conclude this session, we'll apply everything we've learned about working with dates and times in standard Python to working with dates and times in Pandas. With additional information about each bike ride, such as what station it started and stopped at and whether or not the rider had a yearly membership, we'll be able to dig much more deeply into the bike trip data. In this notebook, we'll cover powerful Pandas operations, such as grouping and plotting results by time."
   ]
  },
  {
   "cell_type": "markdown",
   "metadata": {},
   "source": [
    "## Reading date and time data in Pandas"
   ]
  },
  {
   "cell_type": "markdown",
   "metadata": {},
   "source": [
    "### Loading a csv file in Pandas\n",
    "\n",
    "The 202006-capitalbikeshare-tripdata.csv file covers the June'20 rides of the Capital Bikeshare."
   ]
  },
  {
   "cell_type": "code",
   "execution_count": 1,
   "metadata": {},
   "outputs": [
    {
     "name": "stdout",
     "output_type": "stream",
     "text": [
      "            ride_id rideable_type           started_at             ended_at  \\\n",
      "0  16A86B048B01DE6F   docked_bike  2020-06-10 20:20:36  2020-06-10 20:27:28   \n",
      "1  661EA082175DB7E9   docked_bike  2020-06-23 06:31:23  2020-06-23 06:58:35   \n",
      "2  15C659A06C439B74   docked_bike  2020-06-06 11:49:29  2020-06-06 11:49:38   \n",
      "3  59AD75CFBF96DEC1   docked_bike  2020-06-06 11:52:51  2020-06-06 12:21:49   \n",
      "4  06F6881BEFCFC106   docked_bike  2020-06-07 15:25:45  2020-06-07 17:15:28   \n",
      "\n",
      "                       start_station_name  start_station_id  \\\n",
      "0                     Edgewood Rec Center             642.0   \n",
      "1                 Wisconsin Ave & O St NW             289.0   \n",
      "2                          19th & K St NW             269.0   \n",
      "3                          19th & K St NW             269.0   \n",
      "4  37th & O St NW / Georgetown University             152.0   \n",
      "\n",
      "                 end_station_name  end_station_id  start_lat  start_lng  \\\n",
      "0          Rhode Island Ave Metro           368.0  38.924144 -77.002098   \n",
      "1             Edgewood Rec Center           642.0  38.908490 -77.063586   \n",
      "2                  19th & K St NW           269.0  38.902204 -77.043370   \n",
      "3                  10th & K St NW           199.0  38.902204 -77.043370   \n",
      "4  Georgetown Harbor / 30th St NW           102.0  38.907740 -77.071652   \n",
      "\n",
      "     end_lat    end_lng member_casual  \n",
      "0  38.920682 -76.995876        member  \n",
      "1  38.924144 -77.002098        member  \n",
      "2  38.902204 -77.043370        member  \n",
      "3  38.902400 -77.026220        member  \n",
      "4  38.902221 -77.059219        casual  \n",
      "<class 'pandas.core.frame.DataFrame'>\n",
      "RangeIndex: 213995 entries, 0 to 213994\n",
      "Data columns (total 13 columns):\n",
      "ride_id               213995 non-null object\n",
      "rideable_type         213995 non-null object\n",
      "started_at            213995 non-null object\n",
      "ended_at              213995 non-null object\n",
      "start_station_name    213943 non-null object\n",
      "start_station_id      213943 non-null float64\n",
      "end_station_name      212884 non-null object\n",
      "end_station_id        212884 non-null float64\n",
      "start_lat             213995 non-null float64\n",
      "start_lng             213995 non-null float64\n",
      "end_lat               212936 non-null float64\n",
      "end_lng               212936 non-null float64\n",
      "member_casual         213995 non-null object\n",
      "dtypes: float64(6), object(7)\n",
      "memory usage: 21.2+ MB\n",
      "None\n"
     ]
    }
   ],
   "source": [
    "# Import pandas\n",
    "import pandas as pd\n",
    "\n",
    "# Load CSV into the rides variable\n",
    "rides = pd.read_csv('capitalbikeshare.csv')\n",
    "\n",
    "# Print the dataset and info\n",
    "print(rides.head())\n",
    "print(rides.info())"
   ]
  },
  {
   "cell_type": "code",
   "execution_count": 2,
   "metadata": {},
   "outputs": [
    {
     "name": "stdout",
     "output_type": "stream",
     "text": [
      "            ride_id rideable_type          started_at            ended_at  \\\n",
      "0  16A86B048B01DE6F   docked_bike 2020-06-10 20:20:36 2020-06-10 20:27:28   \n",
      "1  661EA082175DB7E9   docked_bike 2020-06-23 06:31:23 2020-06-23 06:58:35   \n",
      "2  15C659A06C439B74   docked_bike 2020-06-06 11:49:29 2020-06-06 11:49:38   \n",
      "3  59AD75CFBF96DEC1   docked_bike 2020-06-06 11:52:51 2020-06-06 12:21:49   \n",
      "4  06F6881BEFCFC106   docked_bike 2020-06-07 15:25:45 2020-06-07 17:15:28   \n",
      "\n",
      "                       start_station_name  start_station_id  \\\n",
      "0                     Edgewood Rec Center             642.0   \n",
      "1                 Wisconsin Ave & O St NW             289.0   \n",
      "2                          19th & K St NW             269.0   \n",
      "3                          19th & K St NW             269.0   \n",
      "4  37th & O St NW / Georgetown University             152.0   \n",
      "\n",
      "                 end_station_name  end_station_id  start_lat  start_lng  \\\n",
      "0          Rhode Island Ave Metro           368.0  38.924144 -77.002098   \n",
      "1             Edgewood Rec Center           642.0  38.908490 -77.063586   \n",
      "2                  19th & K St NW           269.0  38.902204 -77.043370   \n",
      "3                  10th & K St NW           199.0  38.902204 -77.043370   \n",
      "4  Georgetown Harbor / 30th St NW           102.0  38.907740 -77.071652   \n",
      "\n",
      "     end_lat    end_lng member_casual  \n",
      "0  38.920682 -76.995876        member  \n",
      "1  38.924144 -77.002098        member  \n",
      "2  38.902204 -77.043370        member  \n",
      "3  38.902400 -77.026220        member  \n",
      "4  38.902221 -77.059219        casual  \n",
      "<class 'pandas.core.frame.DataFrame'>\n",
      "RangeIndex: 213995 entries, 0 to 213994\n",
      "Data columns (total 13 columns):\n",
      "ride_id               213995 non-null object\n",
      "rideable_type         213995 non-null object\n",
      "started_at            213995 non-null datetime64[ns]\n",
      "ended_at              213995 non-null datetime64[ns]\n",
      "start_station_name    213943 non-null object\n",
      "start_station_id      213943 non-null float64\n",
      "end_station_name      212884 non-null object\n",
      "end_station_id        212884 non-null float64\n",
      "start_lat             213995 non-null float64\n",
      "start_lng             213995 non-null float64\n",
      "end_lat               212936 non-null float64\n",
      "end_lng               212936 non-null float64\n",
      "member_casual         213995 non-null object\n",
      "dtypes: datetime64[ns](2), float64(6), object(5)\n",
      "memory usage: 21.2+ MB\n",
      "None\n"
     ]
    }
   ],
   "source": [
    "# Load CSV into the rides variable\n",
    "rides = pd.read_csv('capitalbikeshare.csv', parse_dates = ['started_at', 'ended_at'])\n",
    "\n",
    "# Print the dataset and info\n",
    "print(rides.head())\n",
    "print(rides.info())"
   ]
  },
  {
   "cell_type": "code",
   "execution_count": 3,
   "metadata": {},
   "outputs": [
    {
     "name": "stdout",
     "output_type": "stream",
     "text": [
      "<class 'pandas.core.frame.DataFrame'>\n",
      "RangeIndex: 213995 entries, 0 to 213994\n",
      "Data columns (total 13 columns):\n",
      "ride_id               213995 non-null object\n",
      "rideable_type         213995 non-null object\n",
      "started_at            213995 non-null object\n",
      "ended_at              213995 non-null object\n",
      "start_station_name    213943 non-null object\n",
      "start_station_id      213943 non-null float64\n",
      "end_station_name      212884 non-null object\n",
      "end_station_id        212884 non-null float64\n",
      "start_lat             213995 non-null float64\n",
      "start_lng             213995 non-null float64\n",
      "end_lat               212936 non-null float64\n",
      "end_lng               212936 non-null float64\n",
      "member_casual         213995 non-null object\n",
      "dtypes: float64(6), object(7)\n",
      "memory usage: 21.2+ MB\n",
      "None\n",
      "<class 'pandas.core.frame.DataFrame'>\n",
      "RangeIndex: 213995 entries, 0 to 213994\n",
      "Data columns (total 13 columns):\n",
      "ride_id               213995 non-null object\n",
      "rideable_type         213995 non-null object\n",
      "started_at            213995 non-null datetime64[ns]\n",
      "ended_at              213995 non-null datetime64[ns]\n",
      "start_station_name    213943 non-null object\n",
      "start_station_id      213943 non-null float64\n",
      "end_station_name      212884 non-null object\n",
      "end_station_id        212884 non-null float64\n",
      "start_lat             213995 non-null float64\n",
      "start_lng             213995 non-null float64\n",
      "end_lat               212936 non-null float64\n",
      "end_lng               212936 non-null float64\n",
      "member_casual         213995 non-null object\n",
      "dtypes: datetime64[ns](2), float64(6), object(5)\n",
      "memory usage: 21.2+ MB\n",
      "None\n"
     ]
    }
   ],
   "source": [
    "# Load CSV into the rides variable\n",
    "rides = pd.read_csv('capitalbikeshare.csv')\n",
    "\n",
    "print(rides.info())\n",
    "\n",
    "rides['started_at'] = pd.to_datetime(rides['started_at'], format='%Y-%m-%d %H:%M:%S')\n",
    "rides['ended_at'] = pd.to_datetime(rides['ended_at'], format='%Y-%m-%d %H:%M:%S')\n",
    "\n",
    "print(rides.info())"
   ]
  },
  {
   "cell_type": "markdown",
   "metadata": {},
   "source": [
    "### Making timedelta columns\n",
    "In previous section, we wrote a loop to subtract datetime objects and determine how long our sample bike had been out of the docks. Now we'll do the same thing with Pandas."
   ]
  },
  {
   "cell_type": "code",
   "execution_count": 4,
   "metadata": {},
   "outputs": [],
   "source": [
    "# Subtract the start date from the end date\n",
    "ride_durations = rides['ended_at'] - rides['started_at']"
   ]
  },
  {
   "cell_type": "code",
   "execution_count": 5,
   "metadata": {},
   "outputs": [
    {
     "data": {
      "text/plain": [
       "0        00:06:52\n",
       "1        00:27:12\n",
       "2        00:00:09\n",
       "3        00:28:58\n",
       "4        01:49:43\n",
       "           ...   \n",
       "213990   00:52:46\n",
       "213991   00:09:43\n",
       "213992   00:16:17\n",
       "213993   00:23:21\n",
       "213994   01:07:42\n",
       "Length: 213995, dtype: timedelta64[ns]"
      ]
     },
     "execution_count": 5,
     "metadata": {},
     "output_type": "execute_result"
    }
   ],
   "source": [
    "ride_durations#.dt#.total_seconds()"
   ]
  },
  {
   "cell_type": "code",
   "execution_count": 6,
   "metadata": {},
   "outputs": [
    {
     "name": "stdout",
     "output_type": "stream",
     "text": [
      "0     412.0\n",
      "1    1632.0\n",
      "2       9.0\n",
      "3    1738.0\n",
      "4    6583.0\n",
      "Name: Duration, dtype: float64\n"
     ]
    }
   ],
   "source": [
    "# Convert the results to seconds\n",
    "rides['Duration'] = ride_durations.dt.total_seconds()\n",
    "\n",
    "print(rides['Duration'].head())"
   ]
  },
  {
   "cell_type": "markdown",
   "metadata": {},
   "source": [
    "## Summarizing datetime data in Pandas"
   ]
  },
  {
   "cell_type": "markdown",
   "metadata": {},
   "source": [
    "### How many joyrides?\n",
    "Suppose you have a theory that some people take long bike rides before putting their bike back in the same dock. Let's call these rides \"joyrides\".\n",
    "\n",
    "You only have data on one bike, so while you can't draw any bigger conclusions, it's certainly worth a look.\n",
    "\n",
    "Are there many joyrides? How long were they in our data set? Use the median instead of the mean, because we know there are some very long trips in our data set that might skew the answer, and the median is less sensitive to outliers."
   ]
  },
  {
   "cell_type": "code",
   "execution_count": 7,
   "metadata": {},
   "outputs": [
    {
     "name": "stdout",
     "output_type": "stream",
     "text": [
      "32966 rides were joyrides\n",
      "The median duration overall was 1074.00 seconds\n",
      "The median duration for joyrides was 2227.00 seconds\n"
     ]
    }
   ],
   "source": [
    "# Create joyrides\n",
    "joyrides = (rides['start_station_name'] == rides['end_station_name'])\n",
    "\n",
    "# Total number of joyrides\n",
    "print(\"{} rides were joyrides\".format(joyrides.sum()))\n",
    "\n",
    "# Median of all rides\n",
    "print(\"The median duration overall was {:.2f} seconds\"\\\n",
    "      .format(rides['Duration'].median()))\n",
    "\n",
    "# Median of joyrides\n",
    "print(\"The median duration for joyrides was {:.2f} seconds\"\\\n",
    "      .format(rides[joyrides]['Duration'].median()))"
   ]
  },
  {
   "cell_type": "markdown",
   "metadata": {},
   "source": [
    "### Resampling\n",
    "Let's try to find the daily number of rides."
   ]
  },
  {
   "cell_type": "code",
   "execution_count": 8,
   "metadata": {},
   "outputs": [
    {
     "data": {
      "text/plain": [
       "<Figure size 640x480 with 1 Axes>"
      ]
     },
     "metadata": {},
     "output_type": "display_data"
    }
   ],
   "source": [
    "# Import matplotlib\n",
    "import matplotlib.pyplot as plt\n",
    "\n",
    "# Resample rides to daily, take the count, plot the results\n",
    "rides.resample('D', on = 'started_at')['ride_id'].count().plot()\n",
    "\n",
    "# Show the results\n",
    "plt.show()"
   ]
  },
  {
   "cell_type": "markdown",
   "metadata": {},
   "source": [
    "### Members vs casual riders over time\n",
    "Riders can either be \"Members\", meaning they pay yearly for the ability to take a bike at any time, or \"Casual\", meaning they pay at the kiosk attached to the bike dock."
   ]
  },
  {
   "cell_type": "code",
   "execution_count": 9,
   "metadata": {},
   "outputs": [
    {
     "name": "stdout",
     "output_type": "stream",
     "text": [
      "started_at  member_casual\n",
      "2020-06-01  member           0.506584\n",
      "            casual           0.493416\n",
      "2020-06-02  casual           0.528505\n",
      "            member           0.471495\n",
      "2020-06-03  casual           0.560504\n",
      "            member           0.439496\n",
      "2020-06-04  casual           0.522371\n",
      "            member           0.477629\n",
      "2020-06-05  casual           0.500397\n",
      "            member           0.499603\n",
      "2020-06-06  casual           0.671276\n",
      "            member           0.328724\n",
      "2020-06-07  casual           0.631678\n",
      "            member           0.368322\n",
      "2020-06-08  casual           0.571388\n",
      "            member           0.428612\n",
      "2020-06-09  casual           0.568552\n",
      "            member           0.431448\n",
      "2020-06-10  member           0.520333\n",
      "            casual           0.479667\n",
      "2020-06-11  member           0.530326\n",
      "            casual           0.469674\n",
      "2020-06-12  casual           0.511788\n",
      "            member           0.488212\n",
      "2020-06-13  casual           0.619492\n",
      "            member           0.380508\n",
      "2020-06-14  casual           0.614305\n",
      "            member           0.385695\n",
      "2020-06-15  casual           0.504387\n",
      "            member           0.495613\n",
      "2020-06-16  member           0.522005\n",
      "            casual           0.477995\n",
      "2020-06-17  member           0.592096\n",
      "            casual           0.407904\n",
      "2020-06-18  member           0.536767\n",
      "            casual           0.463233\n",
      "2020-06-19  casual           0.529274\n",
      "            member           0.470726\n",
      "2020-06-20  casual           0.539499\n",
      "            member           0.460501\n",
      "2020-06-21  casual           0.578575\n",
      "            member           0.421425\n",
      "2020-06-22  member           0.553247\n",
      "            casual           0.446753\n",
      "2020-06-23  member           0.536112\n",
      "            casual           0.463888\n",
      "2020-06-24  member           0.513988\n",
      "            casual           0.486012\n",
      "2020-06-25  member           0.528753\n",
      "            casual           0.471247\n",
      "2020-06-26  casual           0.512168\n",
      "            member           0.487832\n",
      "2020-06-27  casual           0.588826\n",
      "            member           0.411174\n",
      "2020-06-28  casual           0.576086\n",
      "            member           0.423914\n",
      "2020-06-29  member           0.520113\n",
      "            casual           0.479887\n",
      "2020-06-30  member           0.512155\n",
      "            casual           0.487845\n",
      "Name: member_casual, dtype: float64\n"
     ]
    }
   ],
   "source": [
    "# Resample rides to be daily on the basis of Start date\n",
    "daily_rides = rides.resample('D', on='started_at')['member_casual']\n",
    "\n",
    "# Take the ratio of the .value_counts() over the total number of rides\n",
    "print(daily_rides.value_counts()/ daily_rides.count())"
   ]
  },
  {
   "cell_type": "markdown",
   "metadata": {},
   "source": [
    "### Combining groupby() and resample()\n",
    "A very powerful method in Pandas is .groupby(). Whereas .resample() groups rows by some time or date information, .groupby() groups rows based on the values in one or more columns. For example, rides.groupby('Member type').size() would tell us how many rides there were by member type in our entire DataFrame.\n",
    "\n",
    ".resample() can be called after .groupby(). For example, how long was the median ride by day, and by Membership type?"
   ]
  },
  {
   "cell_type": "code",
   "execution_count": 10,
   "metadata": {},
   "outputs": [
    {
     "name": "stdout",
     "output_type": "stream",
     "text": [
      "member_casual  started_at\n",
      "casual         2020-06-01    1430.5\n",
      "               2020-06-02    1425.0\n",
      "               2020-06-03    1445.0\n",
      "               2020-06-04    1467.0\n",
      "               2020-06-05    1408.5\n",
      "               2020-06-06    1431.0\n",
      "               2020-06-07    1472.0\n",
      "               2020-06-08    1501.5\n",
      "               2020-06-09    1443.0\n",
      "               2020-06-10    1429.0\n",
      "               2020-06-11    1538.0\n",
      "               2020-06-12    1464.0\n",
      "               2020-06-13    1464.0\n",
      "               2020-06-14    1462.0\n",
      "               2020-06-15    1484.0\n",
      "               2020-06-16    1410.5\n",
      "               2020-06-17    1462.0\n",
      "               2020-06-18    1512.0\n",
      "               2020-06-19    1453.0\n",
      "               2020-06-20    1463.0\n",
      "               2020-06-21    1486.0\n",
      "               2020-06-22    1510.0\n",
      "               2020-06-23    1415.0\n",
      "               2020-06-24    1494.5\n",
      "               2020-06-25    1500.0\n",
      "               2020-06-26    1459.0\n",
      "               2020-06-27    1414.0\n",
      "               2020-06-28    1503.5\n",
      "               2020-06-29    1458.0\n",
      "               2020-06-30    1477.0\n",
      "member         2020-06-01     746.5\n",
      "               2020-06-02     798.0\n",
      "               2020-06-03     746.0\n",
      "               2020-06-04     740.0\n",
      "               2020-06-05     764.0\n",
      "               2020-06-06     774.0\n",
      "               2020-06-07     737.0\n",
      "               2020-06-08     747.0\n",
      "               2020-06-09     832.0\n",
      "               2020-06-10     763.0\n",
      "               2020-06-11     801.0\n",
      "               2020-06-12     821.0\n",
      "               2020-06-13     769.0\n",
      "               2020-06-14     802.5\n",
      "               2020-06-15     838.5\n",
      "               2020-06-16     715.0\n",
      "               2020-06-17     796.5\n",
      "               2020-06-18     735.0\n",
      "               2020-06-19     780.0\n",
      "               2020-06-20     759.5\n",
      "               2020-06-21     744.0\n",
      "               2020-06-22     777.0\n",
      "               2020-06-23     708.0\n",
      "               2020-06-24     786.0\n",
      "               2020-06-25     801.5\n",
      "               2020-06-26     767.0\n",
      "               2020-06-27     749.0\n",
      "               2020-06-28     768.0\n",
      "               2020-06-29     750.0\n",
      "               2020-06-30     767.5\n",
      "Name: Duration, dtype: float64\n"
     ]
    }
   ],
   "source": [
    "# Group rides by member type, and resample to the daily\n",
    "grouped = rides.groupby('member_casual').resample('D', on='started_at')\n",
    "\n",
    "# Print the median duration for each group\n",
    "print(grouped['Duration'].median())"
   ]
  },
  {
   "cell_type": "markdown",
   "metadata": {},
   "source": [
    "## Additional datetime methods in Pandas"
   ]
  },
  {
   "cell_type": "markdown",
   "metadata": {},
   "source": [
    "### How long per weekday?\n",
    "Pandas has a number of datetime-related attributes within the .dt accessor. Many of them are ones we've encountered before, like .dt.month. Others are convenient and save time compared to standard Python, like .dt.weekday_name."
   ]
  },
  {
   "cell_type": "code",
   "execution_count": 11,
   "metadata": {},
   "outputs": [
    {
     "name": "stdout",
     "output_type": "stream",
     "text": [
      "ride_start_weekday\n",
      "Friday        998.0\n",
      "Monday        993.0\n",
      "Saturday     1238.0\n",
      "Sunday       1243.0\n",
      "Thursday      937.0\n",
      "Tuesday       996.0\n",
      "Wednesday     977.0\n",
      "Name: Duration, dtype: float64\n"
     ]
    }
   ],
   "source": [
    "# Add a column for the weekday of the start of the ride\n",
    "rides['ride_start_weekday'] = rides['started_at'].dt.weekday_name\n",
    "\n",
    "# Print the median trip time per weekday\n",
    "print(rides.groupby('ride_start_weekday')['Duration'].median())"
   ]
  },
  {
   "cell_type": "markdown",
   "metadata": {},
   "source": [
    "# Working with Time Series in Pandas\n",
    "\n",
    "This section lays the foundations to leverage the powerful time series functionality made available by how Pandas represents dates, in particular by the DateTimeIndex. We will learn how to create and manipulate date information and time series, and how to do calculations with time-aware DataFrames to shift your data in time or create period-specific returns."
   ]
  },
  {
   "cell_type": "markdown",
   "metadata": {},
   "source": [
    "## How to use dates & times with pandas"
   ]
  },
  {
   "cell_type": "markdown",
   "metadata": {},
   "source": [
    "### How to use dates & times with pandas\n",
    "We'll create a week of data, iterate over the result, and obtain the dayofweek and weekday_name for each date."
   ]
  },
  {
   "cell_type": "code",
   "execution_count": 12,
   "metadata": {},
   "outputs": [
    {
     "name": "stdout",
     "output_type": "stream",
     "text": [
      "2017-01-01 00:00:00 6 Sunday\n",
      "2017-01-02 00:00:00 0 Monday\n",
      "2017-01-03 00:00:00 1 Tuesday\n",
      "2017-01-04 00:00:00 2 Wednesday\n",
      "2017-01-05 00:00:00 3 Thursday\n",
      "2017-01-06 00:00:00 4 Friday\n",
      "2017-01-07 00:00:00 5 Saturday\n"
     ]
    },
    {
     "name": "stderr",
     "output_type": "stream",
     "text": [
      "C:\\Users\\akash.yadav\\AppData\\Local\\Continuum\\anaconda3\\lib\\site-packages\\ipykernel_launcher.py:6: FutureWarning: `weekday_name` is deprecated and will be removed in a future version. Use `day_name` instead\n",
      "  \n"
     ]
    }
   ],
   "source": [
    "# Create the range of dates here\n",
    "seven_days = pd.date_range(start='2017-1-1', periods=7, freq='D')\n",
    "\n",
    "# Iterate over the dates and print the number and name of the weekday\n",
    "for day in seven_days:\n",
    "    print(day, day.dayofweek, day.weekday_name)"
   ]
  },
  {
   "cell_type": "markdown",
   "metadata": {},
   "source": [
    "## Indexing & resampling time series"
   ]
  },
  {
   "cell_type": "markdown",
   "metadata": {},
   "source": [
    "### Create a time series of air travel data"
   ]
  },
  {
   "cell_type": "code",
   "execution_count": 13,
   "metadata": {},
   "outputs": [
    {
     "name": "stdout",
     "output_type": "stream",
     "text": [
      "     Month  #Passengers\n",
      "0  1949-01          112\n",
      "1  1949-02          118\n",
      "2  1949-03          132\n",
      "3  1949-04          129\n",
      "4  1949-05          121\n",
      "<class 'pandas.core.frame.DataFrame'>\n",
      "RangeIndex: 144 entries, 0 to 143\n",
      "Data columns (total 2 columns):\n",
      "Month          144 non-null object\n",
      "#Passengers    144 non-null int64\n",
      "dtypes: int64(1), object(1)\n",
      "memory usage: 2.4+ KB\n",
      "None\n"
     ]
    }
   ],
   "source": [
    "data = pd.read_csv('AirPassengers.csv')\n",
    "\n",
    "# Inspect data\n",
    "print(data.head())\n",
    "print(data.info())"
   ]
  },
  {
   "cell_type": "code",
   "execution_count": 14,
   "metadata": {},
   "outputs": [
    {
     "name": "stdout",
     "output_type": "stream",
     "text": [
      "<class 'pandas.core.frame.DataFrame'>\n",
      "RangeIndex: 144 entries, 0 to 143\n",
      "Data columns (total 2 columns):\n",
      "Month          144 non-null datetime64[ns]\n",
      "#Passengers    144 non-null int64\n",
      "dtypes: datetime64[ns](1), int64(1)\n",
      "memory usage: 2.4 KB\n",
      "None\n"
     ]
    }
   ],
   "source": [
    "# Convert the date column to datetime64\n",
    "data.Month = pd.to_datetime(data.Month)# format='%Y-%m'\n",
    "print(data.info())"
   ]
  },
  {
   "cell_type": "code",
   "execution_count": 15,
   "metadata": {},
   "outputs": [
    {
     "name": "stdout",
     "output_type": "stream",
     "text": [
      "<class 'pandas.core.frame.DataFrame'>\n",
      "DatetimeIndex: 144 entries, 1949-01-01 to 1960-12-01\n",
      "Data columns (total 1 columns):\n",
      "#Passengers    144 non-null int64\n",
      "dtypes: int64(1)\n",
      "memory usage: 2.2 KB\n",
      "None\n"
     ]
    },
    {
     "data": {
      "image/png": "[encoded data removed]",
      "text/plain": [
       "<Figure size 432x288 with 1 Axes>"
      ]
     },
     "metadata": {
      "needs_background": "light"
     },
     "output_type": "display_data"
    }
   ],
   "source": [
    "# Set date column as index\n",
    "data.set_index('Month', inplace=True)\n",
    "\n",
    "# Inspect data \n",
    "print(data.info())\n",
    "\n",
    "# Plot data\n",
    "data.plot()\n",
    "plt.show()"
   ]
  },
  {
   "cell_type": "markdown",
   "metadata": {},
   "source": [
    "### Compare annual stock price trends\n",
    "We'll learn how to select sub-periods from a time series to compare the performance for three years of Yahoo stock prices."
   ]
  },
  {
   "cell_type": "code",
   "execution_count": 16,
   "metadata": {},
   "outputs": [],
   "source": [
    "google = pd.read_csv('GOOGL.csv', parse_dates=['Date'], index_col='Date')\n",
    "amd = pd.read_csv('AMD.csv', parse_dates=['Date'], index_col='Date')"
   ]
  },
  {
   "cell_type": "code",
   "execution_count": 17,
   "metadata": {},
   "outputs": [
    {
     "data": {
      "text/html": [
       "<div>\n",
       "<style scoped>\n",
       "    .dataframe tbody tr th:only-of-type {\n",
       "        vertical-align: middle;\n",
       "    }\n",
       "\n",
       "    .dataframe tbody tr th {\n",
       "        vertical-align: top;\n",
       "    }\n",
       "\n",
       "    .dataframe thead th {\n",
       "        text-align: right;\n",
       "    }\n",
       "</style>\n",
       "<table border=\"1\" class=\"dataframe\">\n",
       "  <thead>\n",
       "    <tr style=\"text-align: right;\">\n",
       "      <th></th>\n",
       "      <th>Open</th>\n",
       "      <th>High</th>\n",
       "      <th>Low</th>\n",
       "      <th>Close</th>\n",
       "      <th>Adj Close</th>\n",
       "      <th>Volume</th>\n",
       "    </tr>\n",
       "    <tr>\n",
       "      <th>Date</th>\n",
       "      <th></th>\n",
       "      <th></th>\n",
       "      <th></th>\n",
       "      <th></th>\n",
       "      <th></th>\n",
       "      <th></th>\n",
       "    </tr>\n",
       "  </thead>\n",
       "  <tbody>\n",
       "    <tr>\n",
       "      <td>2010-01-04</td>\n",
       "      <td>313.788788</td>\n",
       "      <td>315.070068</td>\n",
       "      <td>312.432434</td>\n",
       "      <td>313.688690</td>\n",
       "      <td>313.688690</td>\n",
       "      <td>3908400</td>\n",
       "    </tr>\n",
       "    <tr>\n",
       "      <td>2010-01-05</td>\n",
       "      <td>313.903900</td>\n",
       "      <td>314.234222</td>\n",
       "      <td>311.081085</td>\n",
       "      <td>312.307312</td>\n",
       "      <td>312.307312</td>\n",
       "      <td>6003300</td>\n",
       "    </tr>\n",
       "    <tr>\n",
       "      <td>2010-01-06</td>\n",
       "      <td>313.243256</td>\n",
       "      <td>313.243256</td>\n",
       "      <td>303.483490</td>\n",
       "      <td>304.434448</td>\n",
       "      <td>304.434448</td>\n",
       "      <td>7949400</td>\n",
       "    </tr>\n",
       "    <tr>\n",
       "      <td>2010-01-07</td>\n",
       "      <td>305.005005</td>\n",
       "      <td>305.305298</td>\n",
       "      <td>296.621613</td>\n",
       "      <td>297.347351</td>\n",
       "      <td>297.347351</td>\n",
       "      <td>12815700</td>\n",
       "    </tr>\n",
       "    <tr>\n",
       "      <td>2010-01-08</td>\n",
       "      <td>296.296295</td>\n",
       "      <td>301.926941</td>\n",
       "      <td>294.849854</td>\n",
       "      <td>301.311310</td>\n",
       "      <td>301.311310</td>\n",
       "      <td>9439100</td>\n",
       "    </tr>\n",
       "  </tbody>\n",
       "</table>\n",
       "</div>"
      ],
      "text/plain": [
       "                  Open        High         Low       Close   Adj Close  \\\n",
       "Date                                                                     \n",
       "2010-01-04  313.788788  315.070068  312.432434  313.688690  313.688690   \n",
       "2010-01-05  313.903900  314.234222  311.081085  312.307312  312.307312   \n",
       "2010-01-06  313.243256  313.243256  303.483490  304.434448  304.434448   \n",
       "2010-01-07  305.005005  305.305298  296.621613  297.347351  297.347351   \n",
       "2010-01-08  296.296295  301.926941  294.849854  301.311310  301.311310   \n",
       "\n",
       "              Volume  \n",
       "Date                  \n",
       "2010-01-04   3908400  \n",
       "2010-01-05   6003300  \n",
       "2010-01-06   7949400  \n",
       "2010-01-07  12815700  \n",
       "2010-01-08   9439100  "
      ]
     },
     "execution_count": 17,
     "metadata": {},
     "output_type": "execute_result"
    }
   ],
   "source": [
    "google.head()"
   ]
  },
  {
   "cell_type": "code",
   "execution_count": 18,
   "metadata": {},
   "outputs": [
    {
     "data": {
      "text/plain": [
       "<matplotlib.axes._subplots.AxesSubplot at 0x1a9062e55f8>"
      ]
     },
     "execution_count": 18,
     "metadata": {},
     "output_type": "execute_result"
    },
    {
     "data": {
      "image/png": "[encoded data removed]",
      "text/plain": [
       "<Figure size 432x288 with 1 Axes>"
      ]
     },
     "metadata": {
      "needs_background": "light"
     },
     "output_type": "display_data"
    }
   ],
   "source": [
    "# Create dataframe prices here\n",
    "prices = pd.DataFrame()\n",
    "\n",
    "# Select data for each year and concatenate with prices here \n",
    "for year in ['2013', '2014', '2015']:\n",
    "    price_per_year = google.loc[year, ['Open']].reset_index(drop=True)    #partial indexing\n",
    "    price_per_year.rename(columns={'Open': year}, inplace=True)\n",
    "    prices = pd.concat([prices, price_per_year], axis=1)\n",
    "\n",
    "# Plot prices\n",
    "prices.plot()"
   ]
  },
  {
   "cell_type": "code",
   "execution_count": 19,
   "metadata": {},
   "outputs": [
    {
     "data": {
      "text/html": [
       "<div>\n",
       "<style scoped>\n",
       "    .dataframe tbody tr th:only-of-type {\n",
       "        vertical-align: middle;\n",
       "    }\n",
       "\n",
       "    .dataframe tbody tr th {\n",
       "        vertical-align: top;\n",
       "    }\n",
       "\n",
       "    .dataframe thead th {\n",
       "        text-align: right;\n",
       "    }\n",
       "</style>\n",
       "<table border=\"1\" class=\"dataframe\">\n",
       "  <thead>\n",
       "    <tr style=\"text-align: right;\">\n",
       "      <th></th>\n",
       "      <th>2013</th>\n",
       "      <th>2014</th>\n",
       "      <th>2015</th>\n",
       "    </tr>\n",
       "  </thead>\n",
       "  <tbody>\n",
       "    <tr>\n",
       "      <td>0</td>\n",
       "      <td>360.070068</td>\n",
       "      <td>558.288269</td>\n",
       "      <td>532.599976</td>\n",
       "    </tr>\n",
       "    <tr>\n",
       "      <td>1</td>\n",
       "      <td>362.827820</td>\n",
       "      <td>558.058044</td>\n",
       "      <td>527.150024</td>\n",
       "    </tr>\n",
       "    <tr>\n",
       "      <td>2</td>\n",
       "      <td>365.035034</td>\n",
       "      <td>557.062073</td>\n",
       "      <td>520.500000</td>\n",
       "    </tr>\n",
       "    <tr>\n",
       "      <td>3</td>\n",
       "      <td>368.093079</td>\n",
       "      <td>563.063049</td>\n",
       "      <td>510.950012</td>\n",
       "    </tr>\n",
       "    <tr>\n",
       "      <td>4</td>\n",
       "      <td>368.138153</td>\n",
       "      <td>573.573547</td>\n",
       "      <td>501.510010</td>\n",
       "    </tr>\n",
       "  </tbody>\n",
       "</table>\n",
       "</div>"
      ],
      "text/plain": [
       "         2013        2014        2015\n",
       "0  360.070068  558.288269  532.599976\n",
       "1  362.827820  558.058044  527.150024\n",
       "2  365.035034  557.062073  520.500000\n",
       "3  368.093079  563.063049  510.950012\n",
       "4  368.138153  573.573547  501.510010"
      ]
     },
     "execution_count": 19,
     "metadata": {},
     "output_type": "execute_result"
    }
   ],
   "source": [
    "prices.head()"
   ]
  },
  {
   "cell_type": "markdown",
   "metadata": {},
   "source": [
    "### Set and change time series frequency\n",
    "\n",
    "We will learn how to assign a frequency to a DateTimeIndex, and then change this frequency. \n",
    "\n",
    "* Note: If you want to do summarization, please use resample or groupby."
   ]
  },
  {
   "cell_type": "code",
   "execution_count": 20,
   "metadata": {},
   "outputs": [
    {
     "name": "stdout",
     "output_type": "stream",
     "text": [
      "<class 'pandas.core.frame.DataFrame'>\n",
      "DatetimeIndex: 2013 entries, 2010-01-04 to 2017-12-29\n",
      "Data columns (total 6 columns):\n",
      "Open         2013 non-null float64\n",
      "High         2013 non-null float64\n",
      "Low          2013 non-null float64\n",
      "Close        2013 non-null float64\n",
      "Adj Close    2013 non-null float64\n",
      "Volume       2013 non-null int64\n",
      "dtypes: float64(5), int64(1)\n",
      "memory usage: 110.1 KB\n"
     ]
    }
   ],
   "source": [
    "amd.info()"
   ]
  },
  {
   "cell_type": "code",
   "execution_count": 21,
   "metadata": {},
   "outputs": [
    {
     "name": "stdout",
     "output_type": "stream",
     "text": [
      "<class 'pandas.core.frame.DataFrame'>\n",
      "DatetimeIndex: 2917 entries, 2010-01-04 to 2017-12-29\n",
      "Freq: D\n",
      "Data columns (total 6 columns):\n",
      "Open         2013 non-null float64\n",
      "High         2013 non-null float64\n",
      "Low          2013 non-null float64\n",
      "Close        2013 non-null float64\n",
      "Adj Close    2013 non-null float64\n",
      "Volume       2013 non-null float64\n",
      "dtypes: float64(6)\n",
      "memory usage: 159.5 KB\n",
      "None\n"
     ]
    },
    {
     "data": {
      "image/png": "[encoded data removed]",
      "text/plain": [
       "<Figure size 432x288 with 6 Axes>"
      ]
     },
     "metadata": {
      "needs_background": "light"
     },
     "output_type": "display_data"
    }
   ],
   "source": [
    "amd1 = amd.asfreq('D')\n",
    "print(amd1.info())\n",
    "# Plot the data\n",
    "amd1.plot(subplots=True)\n",
    "plt.show()"
   ]
  },
  {
   "cell_type": "code",
   "execution_count": 22,
   "metadata": {},
   "outputs": [
    {
     "data": {
      "text/html": [
       "<div>\n",
       "<style scoped>\n",
       "    .dataframe tbody tr th:only-of-type {\n",
       "        vertical-align: middle;\n",
       "    }\n",
       "\n",
       "    .dataframe tbody tr th {\n",
       "        vertical-align: top;\n",
       "    }\n",
       "\n",
       "    .dataframe thead th {\n",
       "        text-align: right;\n",
       "    }\n",
       "</style>\n",
       "<table border=\"1\" class=\"dataframe\">\n",
       "  <thead>\n",
       "    <tr style=\"text-align: right;\">\n",
       "      <th></th>\n",
       "      <th>Open</th>\n",
       "      <th>High</th>\n",
       "      <th>Low</th>\n",
       "      <th>Close</th>\n",
       "      <th>Adj Close</th>\n",
       "      <th>Volume</th>\n",
       "    </tr>\n",
       "    <tr>\n",
       "      <th>Date</th>\n",
       "      <th></th>\n",
       "      <th></th>\n",
       "      <th></th>\n",
       "      <th></th>\n",
       "      <th></th>\n",
       "      <th></th>\n",
       "    </tr>\n",
       "  </thead>\n",
       "  <tbody>\n",
       "    <tr>\n",
       "      <td>2010-01-04</td>\n",
       "      <td>9.79</td>\n",
       "      <td>9.90</td>\n",
       "      <td>9.68</td>\n",
       "      <td>9.70</td>\n",
       "      <td>9.70</td>\n",
       "      <td>18748700.0</td>\n",
       "    </tr>\n",
       "    <tr>\n",
       "      <td>2010-01-05</td>\n",
       "      <td>9.71</td>\n",
       "      <td>9.90</td>\n",
       "      <td>9.68</td>\n",
       "      <td>9.71</td>\n",
       "      <td>9.71</td>\n",
       "      <td>22145700.0</td>\n",
       "    </tr>\n",
       "    <tr>\n",
       "      <td>2010-01-06</td>\n",
       "      <td>9.68</td>\n",
       "      <td>9.76</td>\n",
       "      <td>9.55</td>\n",
       "      <td>9.57</td>\n",
       "      <td>9.57</td>\n",
       "      <td>18643400.0</td>\n",
       "    </tr>\n",
       "    <tr>\n",
       "      <td>2010-01-07</td>\n",
       "      <td>9.51</td>\n",
       "      <td>9.55</td>\n",
       "      <td>9.18</td>\n",
       "      <td>9.47</td>\n",
       "      <td>9.47</td>\n",
       "      <td>26806800.0</td>\n",
       "    </tr>\n",
       "    <tr>\n",
       "      <td>2010-01-08</td>\n",
       "      <td>9.37</td>\n",
       "      <td>9.47</td>\n",
       "      <td>9.29</td>\n",
       "      <td>9.43</td>\n",
       "      <td>9.43</td>\n",
       "      <td>13752800.0</td>\n",
       "    </tr>\n",
       "    <tr>\n",
       "      <td>2010-01-09</td>\n",
       "      <td>NaN</td>\n",
       "      <td>NaN</td>\n",
       "      <td>NaN</td>\n",
       "      <td>NaN</td>\n",
       "      <td>NaN</td>\n",
       "      <td>NaN</td>\n",
       "    </tr>\n",
       "    <tr>\n",
       "      <td>2010-01-10</td>\n",
       "      <td>NaN</td>\n",
       "      <td>NaN</td>\n",
       "      <td>NaN</td>\n",
       "      <td>NaN</td>\n",
       "      <td>NaN</td>\n",
       "      <td>NaN</td>\n",
       "    </tr>\n",
       "    <tr>\n",
       "      <td>2010-01-11</td>\n",
       "      <td>9.38</td>\n",
       "      <td>9.44</td>\n",
       "      <td>9.08</td>\n",
       "      <td>9.14</td>\n",
       "      <td>9.14</td>\n",
       "      <td>23700100.0</td>\n",
       "    </tr>\n",
       "    <tr>\n",
       "      <td>2010-01-12</td>\n",
       "      <td>8.89</td>\n",
       "      <td>8.92</td>\n",
       "      <td>8.52</td>\n",
       "      <td>8.65</td>\n",
       "      <td>8.65</td>\n",
       "      <td>33387100.0</td>\n",
       "    </tr>\n",
       "    <tr>\n",
       "      <td>2010-01-13</td>\n",
       "      <td>8.71</td>\n",
       "      <td>9.20</td>\n",
       "      <td>8.55</td>\n",
       "      <td>9.15</td>\n",
       "      <td>9.15</td>\n",
       "      <td>32741900.0</td>\n",
       "    </tr>\n",
       "  </tbody>\n",
       "</table>\n",
       "</div>"
      ],
      "text/plain": [
       "            Open  High   Low  Close  Adj Close      Volume\n",
       "Date                                                      \n",
       "2010-01-04  9.79  9.90  9.68   9.70       9.70  18748700.0\n",
       "2010-01-05  9.71  9.90  9.68   9.71       9.71  22145700.0\n",
       "2010-01-06  9.68  9.76  9.55   9.57       9.57  18643400.0\n",
       "2010-01-07  9.51  9.55  9.18   9.47       9.47  26806800.0\n",
       "2010-01-08  9.37  9.47  9.29   9.43       9.43  13752800.0\n",
       "2010-01-09   NaN   NaN   NaN    NaN        NaN         NaN\n",
       "2010-01-10   NaN   NaN   NaN    NaN        NaN         NaN\n",
       "2010-01-11  9.38  9.44  9.08   9.14       9.14  23700100.0\n",
       "2010-01-12  8.89  8.92  8.52   8.65       8.65  33387100.0\n",
       "2010-01-13  8.71  9.20  8.55   9.15       9.15  32741900.0"
      ]
     },
     "execution_count": 22,
     "metadata": {},
     "output_type": "execute_result"
    }
   ],
   "source": [
    "amd1.head(10)"
   ]
  },
  {
   "cell_type": "code",
   "execution_count": 23,
   "metadata": {},
   "outputs": [
    {
     "name": "stdout",
     "output_type": "stream",
     "text": [
      "<class 'pandas.core.frame.DataFrame'>\n",
      "DatetimeIndex: 95 entries, 2010-01-31 to 2017-11-30\n",
      "Freq: M\n",
      "Data columns (total 6 columns):\n",
      "Open         67 non-null float64\n",
      "High         67 non-null float64\n",
      "Low          67 non-null float64\n",
      "Close        67 non-null float64\n",
      "Adj Close    67 non-null float64\n",
      "Volume       67 non-null float64\n",
      "dtypes: float64(6)\n",
      "memory usage: 5.2 KB\n",
      "None\n"
     ]
    },
    {
     "data": {
      "image/png": "[encoded data removed]",
      "text/plain": [
       "<Figure size 432x288 with 6 Axes>"
      ]
     },
     "metadata": {
      "needs_background": "light"
     },
     "output_type": "display_data"
    }
   ],
   "source": [
    "amd2 = amd.asfreq('M')\n",
    "print(amd2.info())\n",
    "# Plot the data\n",
    "amd2.plot(subplots=True)\n",
    "plt.show()"
   ]
  },
  {
   "cell_type": "code",
   "execution_count": 24,
   "metadata": {},
   "outputs": [
    {
     "data": {
      "text/html": [
       "<div>\n",
       "<style scoped>\n",
       "    .dataframe tbody tr th:only-of-type {\n",
       "        vertical-align: middle;\n",
       "    }\n",
       "\n",
       "    .dataframe tbody tr th {\n",
       "        vertical-align: top;\n",
       "    }\n",
       "\n",
       "    .dataframe thead th {\n",
       "        text-align: right;\n",
       "    }\n",
       "</style>\n",
       "<table border=\"1\" class=\"dataframe\">\n",
       "  <thead>\n",
       "    <tr style=\"text-align: right;\">\n",
       "      <th></th>\n",
       "      <th>Open</th>\n",
       "      <th>High</th>\n",
       "      <th>Low</th>\n",
       "      <th>Close</th>\n",
       "      <th>Adj Close</th>\n",
       "      <th>Volume</th>\n",
       "    </tr>\n",
       "    <tr>\n",
       "      <th>Date</th>\n",
       "      <th></th>\n",
       "      <th></th>\n",
       "      <th></th>\n",
       "      <th></th>\n",
       "      <th></th>\n",
       "      <th></th>\n",
       "    </tr>\n",
       "  </thead>\n",
       "  <tbody>\n",
       "    <tr>\n",
       "      <td>2010-01-31</td>\n",
       "      <td>NaN</td>\n",
       "      <td>NaN</td>\n",
       "      <td>NaN</td>\n",
       "      <td>NaN</td>\n",
       "      <td>NaN</td>\n",
       "      <td>NaN</td>\n",
       "    </tr>\n",
       "    <tr>\n",
       "      <td>2010-02-28</td>\n",
       "      <td>NaN</td>\n",
       "      <td>NaN</td>\n",
       "      <td>NaN</td>\n",
       "      <td>NaN</td>\n",
       "      <td>NaN</td>\n",
       "      <td>NaN</td>\n",
       "    </tr>\n",
       "    <tr>\n",
       "      <td>2010-03-31</td>\n",
       "      <td>9.15</td>\n",
       "      <td>9.44</td>\n",
       "      <td>9.13</td>\n",
       "      <td>9.27</td>\n",
       "      <td>9.27</td>\n",
       "      <td>12850100.0</td>\n",
       "    </tr>\n",
       "    <tr>\n",
       "      <td>2010-04-30</td>\n",
       "      <td>9.72</td>\n",
       "      <td>9.72</td>\n",
       "      <td>9.06</td>\n",
       "      <td>9.07</td>\n",
       "      <td>9.07</td>\n",
       "      <td>37974900.0</td>\n",
       "    </tr>\n",
       "    <tr>\n",
       "      <td>2010-05-31</td>\n",
       "      <td>NaN</td>\n",
       "      <td>NaN</td>\n",
       "      <td>NaN</td>\n",
       "      <td>NaN</td>\n",
       "      <td>NaN</td>\n",
       "      <td>NaN</td>\n",
       "    </tr>\n",
       "    <tr>\n",
       "      <td>2010-06-30</td>\n",
       "      <td>7.58</td>\n",
       "      <td>7.65</td>\n",
       "      <td>7.30</td>\n",
       "      <td>7.32</td>\n",
       "      <td>7.32</td>\n",
       "      <td>26406200.0</td>\n",
       "    </tr>\n",
       "    <tr>\n",
       "      <td>2010-07-31</td>\n",
       "      <td>NaN</td>\n",
       "      <td>NaN</td>\n",
       "      <td>NaN</td>\n",
       "      <td>NaN</td>\n",
       "      <td>NaN</td>\n",
       "      <td>NaN</td>\n",
       "    </tr>\n",
       "    <tr>\n",
       "      <td>2010-08-31</td>\n",
       "      <td>5.69</td>\n",
       "      <td>5.80</td>\n",
       "      <td>5.57</td>\n",
       "      <td>5.61</td>\n",
       "      <td>5.61</td>\n",
       "      <td>28571000.0</td>\n",
       "    </tr>\n",
       "    <tr>\n",
       "      <td>2010-09-30</td>\n",
       "      <td>7.39</td>\n",
       "      <td>7.44</td>\n",
       "      <td>6.99</td>\n",
       "      <td>7.11</td>\n",
       "      <td>7.11</td>\n",
       "      <td>38514800.0</td>\n",
       "    </tr>\n",
       "    <tr>\n",
       "      <td>2010-10-31</td>\n",
       "      <td>NaN</td>\n",
       "      <td>NaN</td>\n",
       "      <td>NaN</td>\n",
       "      <td>NaN</td>\n",
       "      <td>NaN</td>\n",
       "      <td>NaN</td>\n",
       "    </tr>\n",
       "  </tbody>\n",
       "</table>\n",
       "</div>"
      ],
      "text/plain": [
       "            Open  High   Low  Close  Adj Close      Volume\n",
       "Date                                                      \n",
       "2010-01-31   NaN   NaN   NaN    NaN        NaN         NaN\n",
       "2010-02-28   NaN   NaN   NaN    NaN        NaN         NaN\n",
       "2010-03-31  9.15  9.44  9.13   9.27       9.27  12850100.0\n",
       "2010-04-30  9.72  9.72  9.06   9.07       9.07  37974900.0\n",
       "2010-05-31   NaN   NaN   NaN    NaN        NaN         NaN\n",
       "2010-06-30  7.58  7.65  7.30   7.32       7.32  26406200.0\n",
       "2010-07-31   NaN   NaN   NaN    NaN        NaN         NaN\n",
       "2010-08-31  5.69  5.80  5.57   5.61       5.61  28571000.0\n",
       "2010-09-30  7.39  7.44  6.99   7.11       7.11  38514800.0\n",
       "2010-10-31   NaN   NaN   NaN    NaN        NaN         NaN"
      ]
     },
     "execution_count": 24,
     "metadata": {},
     "output_type": "execute_result"
    }
   ],
   "source": [
    "amd2.head(10)"
   ]
  },
  {
   "cell_type": "markdown",
   "metadata": {},
   "source": [
    "## Lags, changes, and returns for stock price series\n",
    "Basic time series calculation:\n",
    "* Shift or lag values back or forward back in time.\n",
    "* Get the difference in a value for a given period of time.\n",
    "* Compute the percent change over any number of periods.\n",
    "\n",
    "pandas built in methods rely on pd.DateTimeIndex"
   ]
  },
  {
   "cell_type": "markdown",
   "metadata": {},
   "source": [
    "### Shifting stock prices across time\n",
    "1. Method to manipulate time series using .shift(), which allows you shift all values in a Series or DataFrame by a number of periods to a different time along the DateTimeIndex.\n",
    "\n",
    "Let's use this to visually compare a stock price series for Google shifted 90 business days into both past and future."
   ]
  },
  {
   "cell_type": "code",
   "execution_count": 25,
   "metadata": {},
   "outputs": [
    {
     "data": {
      "image/png": "[encoded data removed]",
      "text/plain": [
       "<Figure size 432x288 with 1 Axes>"
      ]
     },
     "metadata": {
      "needs_background": "light"
     },
     "output_type": "display_data"
    }
   ],
   "source": [
    "# Import data here\n",
    "google = pd.read_csv('GOOGL.csv', parse_dates=['Date'], index_col='Date')\n",
    "\n",
    "# Set data frequency to business daily\n",
    "google = google.asfreq('B')\n",
    "\n",
    "# Create 'lagged' and 'shifted'\n",
    "google['lagged'] = google.Close.shift(periods=-90)\n",
    "google['shifted'] = google.Close.shift(periods=90)\n",
    "\n",
    "# Plot the google price series\n",
    "google[['Close','lagged','shifted']].plot()\n",
    "plt.show()"
   ]
  },
  {
   "cell_type": "code",
   "execution_count": 26,
   "metadata": {},
   "outputs": [
    {
     "data": {
      "text/html": [
       "<div>\n",
       "<style scoped>\n",
       "    .dataframe tbody tr th:only-of-type {\n",
       "        vertical-align: middle;\n",
       "    }\n",
       "\n",
       "    .dataframe tbody tr th {\n",
       "        vertical-align: top;\n",
       "    }\n",
       "\n",
       "    .dataframe thead th {\n",
       "        text-align: right;\n",
       "    }\n",
       "</style>\n",
       "<table border=\"1\" class=\"dataframe\">\n",
       "  <thead>\n",
       "    <tr style=\"text-align: right;\">\n",
       "      <th></th>\n",
       "      <th>Open</th>\n",
       "      <th>High</th>\n",
       "      <th>Low</th>\n",
       "      <th>Close</th>\n",
       "      <th>Adj Close</th>\n",
       "      <th>Volume</th>\n",
       "      <th>lagged</th>\n",
       "      <th>shifted</th>\n",
       "    </tr>\n",
       "    <tr>\n",
       "      <th>Date</th>\n",
       "      <th></th>\n",
       "      <th></th>\n",
       "      <th></th>\n",
       "      <th></th>\n",
       "      <th></th>\n",
       "      <th></th>\n",
       "      <th></th>\n",
       "      <th></th>\n",
       "    </tr>\n",
       "  </thead>\n",
       "  <tbody>\n",
       "    <tr>\n",
       "      <td>2010-01-04</td>\n",
       "      <td>313.788788</td>\n",
       "      <td>315.070068</td>\n",
       "      <td>312.432434</td>\n",
       "      <td>313.688690</td>\n",
       "      <td>313.688690</td>\n",
       "      <td>3908400.0</td>\n",
       "      <td>261.086090</td>\n",
       "      <td>NaN</td>\n",
       "    </tr>\n",
       "    <tr>\n",
       "      <td>2010-01-05</td>\n",
       "      <td>313.903900</td>\n",
       "      <td>314.234222</td>\n",
       "      <td>311.081085</td>\n",
       "      <td>312.307312</td>\n",
       "      <td>312.307312</td>\n",
       "      <td>6003300.0</td>\n",
       "      <td>254.779785</td>\n",
       "      <td>NaN</td>\n",
       "    </tr>\n",
       "    <tr>\n",
       "      <td>2010-01-06</td>\n",
       "      <td>313.243256</td>\n",
       "      <td>313.243256</td>\n",
       "      <td>303.483490</td>\n",
       "      <td>304.434448</td>\n",
       "      <td>304.434448</td>\n",
       "      <td>7949400.0</td>\n",
       "      <td>252.947952</td>\n",
       "      <td>NaN</td>\n",
       "    </tr>\n",
       "    <tr>\n",
       "      <td>2010-01-07</td>\n",
       "      <td>305.005005</td>\n",
       "      <td>305.305298</td>\n",
       "      <td>296.621613</td>\n",
       "      <td>297.347351</td>\n",
       "      <td>297.347351</td>\n",
       "      <td>12815700.0</td>\n",
       "      <td>255.695694</td>\n",
       "      <td>NaN</td>\n",
       "    </tr>\n",
       "    <tr>\n",
       "      <td>2010-01-08</td>\n",
       "      <td>296.296295</td>\n",
       "      <td>301.926941</td>\n",
       "      <td>294.849854</td>\n",
       "      <td>301.311310</td>\n",
       "      <td>301.311310</td>\n",
       "      <td>9439100.0</td>\n",
       "      <td>254.019012</td>\n",
       "      <td>NaN</td>\n",
       "    </tr>\n",
       "    <tr>\n",
       "      <td>2010-01-11</td>\n",
       "      <td>302.532532</td>\n",
       "      <td>302.532532</td>\n",
       "      <td>297.317322</td>\n",
       "      <td>300.855865</td>\n",
       "      <td>300.855865</td>\n",
       "      <td>14411300.0</td>\n",
       "      <td>254.239243</td>\n",
       "      <td>NaN</td>\n",
       "    </tr>\n",
       "    <tr>\n",
       "      <td>2010-01-12</td>\n",
       "      <td>299.124115</td>\n",
       "      <td>299.379395</td>\n",
       "      <td>294.294281</td>\n",
       "      <td>295.535522</td>\n",
       "      <td>295.535522</td>\n",
       "      <td>9696800.0</td>\n",
       "      <td>249.434433</td>\n",
       "      <td>NaN</td>\n",
       "    </tr>\n",
       "    <tr>\n",
       "      <td>2010-01-13</td>\n",
       "      <td>288.533539</td>\n",
       "      <td>294.484497</td>\n",
       "      <td>287.237244</td>\n",
       "      <td>293.838837</td>\n",
       "      <td>293.838837</td>\n",
       "      <td>12980200.0</td>\n",
       "      <td>247.462463</td>\n",
       "      <td>NaN</td>\n",
       "    </tr>\n",
       "    <tr>\n",
       "      <td>2010-01-14</td>\n",
       "      <td>292.242249</td>\n",
       "      <td>297.397400</td>\n",
       "      <td>291.696686</td>\n",
       "      <td>295.220215</td>\n",
       "      <td>295.220215</td>\n",
       "      <td>8471700.0</td>\n",
       "      <td>237.742737</td>\n",
       "      <td>NaN</td>\n",
       "    </tr>\n",
       "    <tr>\n",
       "      <td>2010-01-15</td>\n",
       "      <td>296.966980</td>\n",
       "      <td>297.077087</td>\n",
       "      <td>289.309296</td>\n",
       "      <td>290.290283</td>\n",
       "      <td>290.290283</td>\n",
       "      <td>10858100.0</td>\n",
       "      <td>236.261261</td>\n",
       "      <td>NaN</td>\n",
       "    </tr>\n",
       "  </tbody>\n",
       "</table>\n",
       "</div>"
      ],
      "text/plain": [
       "                  Open        High         Low       Close   Adj Close  \\\n",
       "Date                                                                     \n",
       "2010-01-04  313.788788  315.070068  312.432434  313.688690  313.688690   \n",
       "2010-01-05  313.903900  314.234222  311.081085  312.307312  312.307312   \n",
       "2010-01-06  313.243256  313.243256  303.483490  304.434448  304.434448   \n",
       "2010-01-07  305.005005  305.305298  296.621613  297.347351  297.347351   \n",
       "2010-01-08  296.296295  301.926941  294.849854  301.311310  301.311310   \n",
       "2010-01-11  302.532532  302.532532  297.317322  300.855865  300.855865   \n",
       "2010-01-12  299.124115  299.379395  294.294281  295.535522  295.535522   \n",
       "2010-01-13  288.533539  294.484497  287.237244  293.838837  293.838837   \n",
       "2010-01-14  292.242249  297.397400  291.696686  295.220215  295.220215   \n",
       "2010-01-15  296.966980  297.077087  289.309296  290.290283  290.290283   \n",
       "\n",
       "                Volume      lagged  shifted  \n",
       "Date                                         \n",
       "2010-01-04   3908400.0  261.086090      NaN  \n",
       "2010-01-05   6003300.0  254.779785      NaN  \n",
       "2010-01-06   7949400.0  252.947952      NaN  \n",
       "2010-01-07  12815700.0  255.695694      NaN  \n",
       "2010-01-08   9439100.0  254.019012      NaN  \n",
       "2010-01-11  14411300.0  254.239243      NaN  \n",
       "2010-01-12   9696800.0  249.434433      NaN  \n",
       "2010-01-13  12980200.0  247.462463      NaN  \n",
       "2010-01-14   8471700.0  237.742737      NaN  \n",
       "2010-01-15  10858100.0  236.261261      NaN  "
      ]
     },
     "execution_count": 26,
     "metadata": {},
     "output_type": "execute_result"
    }
   ],
   "source": [
    "google.head(10)"
   ]
  },
  {
   "cell_type": "markdown",
   "metadata": {},
   "source": [
    "### Calculating stock price changes\n",
    "We'll learn to calculate returns using current and shifted prices as input. Now we'll practice a similar calculation to calculate absolute changes from current and shifted prices, and compare the result to the function .diff()."
   ]
  },
  {
   "cell_type": "code",
   "execution_count": 27,
   "metadata": {},
   "outputs": [
    {
     "name": "stdout",
     "output_type": "stream",
     "text": [
      "                   Open         High          Low        Close    Adj Close  \\\n",
      "Date                                                                          \n",
      "2017-12-22  1070.000000  1071.719971  1067.640015  1068.859985  1068.859985   \n",
      "2017-12-26  1068.640015  1068.859985  1058.640015  1065.849976  1065.849976   \n",
      "2017-12-27  1066.599976  1068.270020  1058.380005  1060.199951  1060.199951   \n",
      "2017-12-28  1062.250000  1064.839966  1053.380005  1055.949951  1055.949951   \n",
      "2017-12-29  1055.489990  1058.050049  1052.699951  1053.400024  1053.400024   \n",
      "\n",
      "             Volume   shifted_30  change_30    diff_30  \n",
      "Date                                                    \n",
      "2017-12-22   889400  1048.000000  22.000000  22.000000  \n",
      "2017-12-26   918800  1043.869995  24.770020  24.770020  \n",
      "2017-12-27  1116200  1040.800049  25.799927  25.799927  \n",
      "2017-12-28   994200  1037.719971  24.530029  24.530029  \n",
      "2017-12-29  1180300  1035.000000  20.489990  20.489990  \n"
     ]
    }
   ],
   "source": [
    "# Import data here\n",
    "google = pd.read_csv('GOOGL.csv', parse_dates=['Date'], index_col='Date')\n",
    "\n",
    "# Created shifted_30 here\n",
    "google['shifted_30'] = google.Open.shift(30)\n",
    "\n",
    "# Subtract shifted_30 from price\n",
    "google['change_30'] = google['Open'] - google['shifted_30']\n",
    "\n",
    "# Get the 30-day price difference\n",
    "google['diff_30'] = google.Open.diff(30)\n",
    "\n",
    "# Inspect the last five rows of price\n",
    "print(google.tail())\n"
   ]
  },
  {
   "cell_type": "markdown",
   "metadata": {},
   "source": [
    "### Plotting multi-period returns\n",
    "The last time series method that we'll learn is .pct_change(). Let's use this function to calculate returns for various calendar day periods, and plot the result to compare the different patterns."
   ]
  },
  {
   "cell_type": "code",
   "execution_count": 28,
   "metadata": {},
   "outputs": [
    {
     "data": {
      "image/png": "[encoded data removed]",
      "text/plain": [
       "<Figure size 432x288 with 4 Axes>"
      ]
     },
     "metadata": {
      "needs_background": "light"
     },
     "output_type": "display_data"
    }
   ],
   "source": [
    "# Import data here\n",
    "google = pd.read_csv('GOOGL.csv', parse_dates=['Date'], index_col='Date')\n",
    "\n",
    "# Set data frequency to business daily\n",
    "google = google.asfreq('D')\n",
    "\n",
    "# Create daily_return\n",
    "google['daily_return'] = google.Close.pct_change(1).mul(100)\n",
    "\n",
    "# Create monthly_return\n",
    "google['monthly_return'] = google.Close.pct_change(30).mul(100)\n",
    "\n",
    "# Create annual_return\n",
    "google['annual_return'] = google.Close.pct_change(360).mul(100)\n",
    "\n",
    "# Plot the result\n",
    "google[['Close','daily_return','monthly_return','annual_return']].plot(subplots=True)\n",
    "plt.show()"
   ]
  },
  {
   "cell_type": "markdown",
   "metadata": {},
   "source": [
    "# Great Job!"
   ]
  }
 ],
 "metadata": {
  "kernelspec": {
   "display_name": "Python 3 (ipykernel)",
   "language": "python",
   "name": "python3"
  },
  "language_info": {
   "codemirror_mode": {
    "name": "ipython",
    "version": 3
   },
   "file_extension": ".py",
   "mimetype": "text/x-python",
   "name": "python",
   "nbconvert_exporter": "python",
   "pygments_lexer": "ipython3",
   "version": "3.9.7"
  }
 },
 "nbformat": 4,
 "nbformat_minor": 2
}
