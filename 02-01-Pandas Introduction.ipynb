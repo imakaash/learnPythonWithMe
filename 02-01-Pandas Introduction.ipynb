{
 "cells": [
  {
   "cell_type": "markdown",
   "metadata": {},
   "source": [
    "# Introduction to Pandas in Python"
   ]
  },
  {
   "cell_type": "markdown",
   "metadata": {},
   "source": [
    "Pandas is an open-source library that is made mainly for working with relational or labeled data both easily and intuitively. It provides various data structures and operations for manipulating numerical data and time series. This library is built on the top of the NumPy library. Pandas is fast and it has high-performance & productivity for users."
   ]
  },
  {
   "cell_type": "markdown",
   "metadata": {},
   "source": [
    "## Advantages\n",
    "Fast and efficient for manipulating and analyzing data.\n",
    "\n",
    "Data from different file objects can be loaded.\n",
    "\n",
    "Easy handling of missing data (represented as NaN) in floating point as well as non-floating point data\n",
    "\n",
    "Size mutability: columns can be inserted and deleted from DataFrame and higher dimensional objects\n",
    "\n",
    "Data set merging and joining.\n",
    "\n",
    "Flexible reshaping and pivoting of data sets\n",
    "\n",
    "Provides time-series functionality.\n",
    "\n",
    "Powerful group by functionality for performing split-apply-combine operations on data sets."
   ]
  },
  {
   "cell_type": "markdown",
   "metadata": {},
   "source": [
    "## Downloading and Installing Pandas\n",
    "\n",
    "Pandas can be installed in multiple ways on Windows and on Linux. Various different ways are listed below:\n",
    "\n",
    "Windows\n",
    "Python Pandas can be installed on Windows in two ways:\n",
    "\n",
    "Using pip\n",
    "Using Anaconda\n",
    "\n",
    "Install Pandas using pip\n",
    "\n",
    "PIP is a package management system used to install and manage software packages/libraries written in Python. These files are stored in a large “on-line repository” termed as Python Package Index (PyPI).\n",
    "\n",
    "Pandas can be installed using PIP by the use of the following command:"
   ]
  },
  {
   "cell_type": "code",
   "execution_count": 1,
   "metadata": {},
   "outputs": [
    {
     "name": "stdout",
     "output_type": "stream",
     "text": [
      "Requirement already satisfied: pandas in /Users/akash/opt/anaconda3/lib/python3.9/site-packages (1.5.0)\r\n",
      "Requirement already satisfied: numpy>=1.20.3 in /Users/akash/opt/anaconda3/lib/python3.9/site-packages (from pandas) (1.21.4)\r\n",
      "Requirement already satisfied: python-dateutil>=2.8.1 in /Users/akash/opt/anaconda3/lib/python3.9/site-packages (from pandas) (2.8.2)\r\n",
      "Requirement already satisfied: pytz>=2020.1 in /Users/akash/opt/anaconda3/lib/python3.9/site-packages (from pandas) (2021.3)\r\n",
      "Requirement already satisfied: six>=1.5 in /Users/akash/opt/anaconda3/lib/python3.9/site-packages (from python-dateutil>=2.8.1->pandas) (1.16.0)\r\n"
     ]
    }
   ],
   "source": [
    "!pip install pandas"
   ]
  },
  {
   "cell_type": "markdown",
   "metadata": {},
   "source": [
    "## Getting Started\n",
    "After the pandas has been installed into the system, you need to import the library. This module is generally imported as –"
   ]
  },
  {
   "cell_type": "code",
   "execution_count": 2,
   "metadata": {},
   "outputs": [],
   "source": [
    "import pandas as pd"
   ]
  },
  {
   "cell_type": "markdown",
   "metadata": {},
   "source": [
    "Pandas generally provide two data structures for manipulating data, They are:\n",
    "\n",
    "Series\n",
    "\n",
    "DataFrame"
   ]
  },
  {
   "cell_type": "markdown",
   "metadata": {},
   "source": [
    "### Series\n",
    "Pandas Series is a one-dimensional labeled array capable of holding data of any type (integer, string, float, python objects, etc.). The axis labels are collectively called index. Pandas Series is nothing but a column in an excel sheet. Labels need not be unique but must be a hashable type. The object supports both integer and label-based indexing and provides a host of methods for performing operations involving the index.\n",
    "\n",
    "\n",
    "A Series is very similar to a NumPy array (in fact it is built on top of the NumPy array object). What differentiates the NumPy array from a Series, is that a Series can have axis labels, meaning it can be indexed by a label, instead of just a number location. It also doesn't need to hold numeric data, it can hold any arbitrary Python Object.\n",
    "\n",
    "Let's explore this concept through some examples:"
   ]
  },
  {
   "cell_type": "markdown",
   "metadata": {},
   "source": [
    "### Creating a Series\n",
    "In the real world, a Pandas Series will be created by loading the datasets from existing storage, storage can be SQL Database, CSV file, and Excel file. Pandas Series can be created from the lists, dictionary, and from a scalar value etc.\n",
    "\n",
    "Example: "
   ]
  },
  {
   "cell_type": "code",
   "execution_count": 3,
   "metadata": {
    "scrolled": true
   },
   "outputs": [
    {
     "name": "stdout",
     "output_type": "stream",
     "text": [
      "Series([], dtype: float64)\n",
      "0    l\n",
      "1    a\n",
      "2    n\n",
      "3    d\n",
      "4    m\n",
      "5    a\n",
      "6    r\n",
      "7    k\n",
      "dtype: object\n"
     ]
    },
    {
     "name": "stderr",
     "output_type": "stream",
     "text": [
      "/var/folders/2s/6763kr_14zg4wl7bslz22dlh0000gn/T/ipykernel_22860/2827102373.py:6: FutureWarning: The default dtype for empty Series will be 'object' instead of 'float64' in a future version. Specify a dtype explicitly to silence this warning.\n",
      "  ser = pd.Series()\n"
     ]
    },
    {
     "data": {
      "text/plain": [
       "a    l\n",
       "b    a\n",
       "c    n\n",
       "d    d\n",
       "e    m\n",
       "f    a\n",
       "g    r\n",
       "h    k\n",
       "dtype: object"
      ]
     },
     "execution_count": 3,
     "metadata": {},
     "output_type": "execute_result"
    }
   ],
   "source": [
    "import pandas as pd  \n",
    "import numpy as np \n",
    "  \n",
    "  \n",
    "# Creating empty series  \n",
    "ser = pd.Series()  \n",
    "    \n",
    "print(ser)  \n",
    "  \n",
    "# simple array  \n",
    "data = np.array(['l', 'a', 'n', 'd', 'm','a', 'r', 'k'])  \n",
    "    \n",
    "ser = pd.Series(data)  \n",
    "print(ser) \n",
    "\n",
    "\n",
    "labels = ['a','b','c','d','e','f','g','h']\n",
    "pd.Series(data=data,index=labels)"
   ]
  },
  {
   "cell_type": "code",
   "execution_count": 4,
   "metadata": {},
   "outputs": [
    {
     "data": {
      "text/plain": [
       "0      <built-in function sum>\n",
       "1    <built-in function print>\n",
       "2      <built-in function len>\n",
       "dtype: object"
      ]
     },
     "execution_count": 4,
     "metadata": {},
     "output_type": "execute_result"
    }
   ],
   "source": [
    "# Even functions (although unlikely that you will use this)\n",
    "pd.Series([sum,print,len])"
   ]
  },
  {
   "cell_type": "markdown",
   "metadata": {},
   "source": [
    "## DataFrame\n",
    "Pandas DataFrame is two-dimensional size-mutable, potentially heterogeneous tabular data structure with labeled axes (rows and columns). A Data frame is a two-dimensional data structure, i.e., data is aligned in a tabular fashion in rows and columns. Pandas DataFrame consists of three principal components, the data, rows, and columns."
   ]
  },
  {
   "attachments": {
    "image.png": {
     "image/png": "[encoded data removed]"
    }
   },
   "cell_type": "markdown",
   "metadata": {},
   "source": [
    "![image.png](attachment:image.png)"
   ]
  },
  {
   "cell_type": "markdown",
   "metadata": {},
   "source": [
    "Creating a DataFrame\n",
    "\n",
    "In the real world, a Pandas DataFrame will be created by loading the datasets from existing storage, storage can be SQL Database, CSV file, and Excel file. Pandas DataFrame can be created from the lists, dictionary, and from a list of dictionary etc.\n",
    "\n",
    "Example:"
   ]
  },
  {
   "cell_type": "code",
   "execution_count": 5,
   "metadata": {},
   "outputs": [
    {
     "name": "stdout",
     "output_type": "stream",
     "text": [
      "Empty DataFrame\n",
      "Columns: []\n",
      "Index: []\n"
     ]
    },
    {
     "data": {
      "text/html": [
       "<div>\n",
       "<style scoped>\n",
       "    .dataframe tbody tr th:only-of-type {\n",
       "        vertical-align: middle;\n",
       "    }\n",
       "\n",
       "    .dataframe tbody tr th {\n",
       "        vertical-align: top;\n",
       "    }\n",
       "\n",
       "    .dataframe thead th {\n",
       "        text-align: right;\n",
       "    }\n",
       "</style>\n",
       "<table border=\"1\" class=\"dataframe\">\n",
       "  <thead>\n",
       "    <tr style=\"text-align: right;\">\n",
       "      <th></th>\n",
       "      <th>0</th>\n",
       "    </tr>\n",
       "  </thead>\n",
       "  <tbody>\n",
       "    <tr>\n",
       "      <th>0</th>\n",
       "      <td>Landmark</td>\n",
       "    </tr>\n",
       "    <tr>\n",
       "      <th>1</th>\n",
       "      <td>Group</td>\n",
       "    </tr>\n",
       "    <tr>\n",
       "      <th>2</th>\n",
       "      <td>Office</td>\n",
       "    </tr>\n",
       "    <tr>\n",
       "      <th>3</th>\n",
       "      <td>is</td>\n",
       "    </tr>\n",
       "    <tr>\n",
       "      <th>4</th>\n",
       "      <td>in</td>\n",
       "    </tr>\n",
       "    <tr>\n",
       "      <th>5</th>\n",
       "      <td>Bangalore</td>\n",
       "    </tr>\n",
       "  </tbody>\n",
       "</table>\n",
       "</div>"
      ],
      "text/plain": [
       "           0\n",
       "0   Landmark\n",
       "1      Group\n",
       "2     Office\n",
       "3         is\n",
       "4         in\n",
       "5  Bangalore"
      ]
     },
     "execution_count": 5,
     "metadata": {},
     "output_type": "execute_result"
    }
   ],
   "source": [
    "import pandas as pd  \n",
    "    \n",
    "# Calling DataFrame constructor  \n",
    "df = pd.DataFrame()  \n",
    "print(df) \n",
    "  \n",
    "# list of strings  \n",
    "lst = ['Landmark', 'Group', 'Office', 'is',   \n",
    "            'in', 'Bangalore']  \n",
    "    \n",
    "# Calling DataFrame constructor on list  \n",
    "df = pd.DataFrame(lst)  \n",
    "df "
   ]
  },
  {
   "cell_type": "markdown",
   "metadata": {},
   "source": [
    "Creating DataFrame from dict of ndarray/lists: \n",
    "\n",
    "\n",
    "To create DataFrame from dict of narray/list, all the narray must be of same length. If index is passed then the length index should be equal to the length of arrays. If no index is passed, then by default, index will be range(n) where n is the array length.\n"
   ]
  },
  {
   "cell_type": "code",
   "execution_count": 6,
   "metadata": {},
   "outputs": [
    {
     "name": "stdout",
     "output_type": "stream",
     "text": [
      "    Name  Age\n",
      "0    Tom   20\n",
      "1   nick   21\n",
      "2  krish   19\n",
      "3   jack   18\n"
     ]
    },
    {
     "data": {
      "text/html": [
       "<div>\n",
       "<style scoped>\n",
       "    .dataframe tbody tr th:only-of-type {\n",
       "        vertical-align: middle;\n",
       "    }\n",
       "\n",
       "    .dataframe tbody tr th {\n",
       "        vertical-align: top;\n",
       "    }\n",
       "\n",
       "    .dataframe thead th {\n",
       "        text-align: right;\n",
       "    }\n",
       "</style>\n",
       "<table border=\"1\" class=\"dataframe\">\n",
       "  <thead>\n",
       "    <tr style=\"text-align: right;\">\n",
       "      <th></th>\n",
       "      <th>Name</th>\n",
       "      <th>Age</th>\n",
       "    </tr>\n",
       "  </thead>\n",
       "  <tbody>\n",
       "    <tr>\n",
       "      <th>0</th>\n",
       "      <td>Tom</td>\n",
       "      <td>20</td>\n",
       "    </tr>\n",
       "    <tr>\n",
       "      <th>1</th>\n",
       "      <td>nick</td>\n",
       "      <td>21</td>\n",
       "    </tr>\n",
       "    <tr>\n",
       "      <th>2</th>\n",
       "      <td>krish</td>\n",
       "      <td>19</td>\n",
       "    </tr>\n",
       "    <tr>\n",
       "      <th>3</th>\n",
       "      <td>jack</td>\n",
       "      <td>18</td>\n",
       "    </tr>\n",
       "  </tbody>\n",
       "</table>\n",
       "</div>"
      ],
      "text/plain": [
       "    Name  Age\n",
       "0    Tom   20\n",
       "1   nick   21\n",
       "2  krish   19\n",
       "3   jack   18"
      ]
     },
     "execution_count": 6,
     "metadata": {},
     "output_type": "execute_result"
    }
   ],
   "source": [
    "# Python code demonstrate creating \n",
    "# DataFrame from dict narray / lists \n",
    "# By default addresses.\n",
    " \n",
    "import pandas as pd\n",
    " \n",
    "# intialise data of lists.\n",
    "data = {'Name':['Tom', 'nick', 'krish', 'jack'],\n",
    "        'Age':[20, 21, 19, 18]}\n",
    " \n",
    "# Create DataFrame\n",
    "df = pd.DataFrame(data)\n",
    " \n",
    "# Print the output.\n",
    "print(df)\n",
    "df"
   ]
  },
  {
   "cell_type": "markdown",
   "metadata": {},
   "source": [
    "## Indexing and Selecting Data with Pandas\n",
    "\n",
    "Indexing in pandas means simply selecting particular rows and columns of data from a DataFrame. Indexing could mean selecting all the rows and some of the columns, some of the rows and all of the columns, or some of each of the rows and columns. Indexing can also be known as Subset Selection."
   ]
  },
  {
   "cell_type": "markdown",
   "metadata": {},
   "source": [
    "Since a dataframe is two-dimensional, we can perform basic operations on rows/columns like selecting, deleting, adding, and renaming.\n",
    "\n",
    "Column Selection: In Order to select a column in Pandas DataFrame, we can access the columns by calling them by their columns name."
   ]
  },
  {
   "cell_type": "code",
   "execution_count": 7,
   "metadata": {},
   "outputs": [
    {
     "name": "stdout",
     "output_type": "stream",
     "text": [
      "     Name Qualification\n",
      "0     Jai           Msc\n",
      "1  Princi            MA\n",
      "2  Gaurav           MCA\n",
      "3    Anuj           Phd\n"
     ]
    }
   ],
   "source": [
    "# Import pandas package\n",
    "import pandas as pd\n",
    " \n",
    "# Define a dictionary containing employee data\n",
    "data = {'Name':['Jai', 'Princi', 'Gaurav', 'Anuj'],\n",
    "        'Age':[27, 24, 22, 32],\n",
    "        'Qualification':['Msc', 'MA', 'MCA', 'Phd']}\n",
    "data\n",
    "# Convert the dictionary into DataFrame \n",
    "df = pd.DataFrame(data)\n",
    " \n",
    "# select two columns\n",
    "print(df[['Name', 'Qualification']])"
   ]
  },
  {
   "cell_type": "markdown",
   "metadata": {},
   "source": [
    "Column Addition:\n",
    "In Order to add a column in Pandas DataFrame, we can declare a new list as a column and add to a existing Dataframe."
   ]
  },
  {
   "cell_type": "code",
   "execution_count": 8,
   "metadata": {},
   "outputs": [
    {
     "data": {
      "text/html": [
       "<div>\n",
       "<style scoped>\n",
       "    .dataframe tbody tr th:only-of-type {\n",
       "        vertical-align: middle;\n",
       "    }\n",
       "\n",
       "    .dataframe tbody tr th {\n",
       "        vertical-align: top;\n",
       "    }\n",
       "\n",
       "    .dataframe thead th {\n",
       "        text-align: right;\n",
       "    }\n",
       "</style>\n",
       "<table border=\"1\" class=\"dataframe\">\n",
       "  <thead>\n",
       "    <tr style=\"text-align: right;\">\n",
       "      <th></th>\n",
       "      <th>Name</th>\n",
       "      <th>Age</th>\n",
       "      <th>Qualification</th>\n",
       "      <th>Address</th>\n",
       "      <th>Score</th>\n",
       "    </tr>\n",
       "  </thead>\n",
       "  <tbody>\n",
       "    <tr>\n",
       "      <th>0</th>\n",
       "      <td>Jai</td>\n",
       "      <td>27</td>\n",
       "      <td>Msc</td>\n",
       "      <td>Delhi</td>\n",
       "      <td>40</td>\n",
       "    </tr>\n",
       "    <tr>\n",
       "      <th>1</th>\n",
       "      <td>Princi</td>\n",
       "      <td>24</td>\n",
       "      <td>MA</td>\n",
       "      <td>Bangalore</td>\n",
       "      <td>56</td>\n",
       "    </tr>\n",
       "    <tr>\n",
       "      <th>2</th>\n",
       "      <td>Gaurav</td>\n",
       "      <td>22</td>\n",
       "      <td>MCA</td>\n",
       "      <td>Chennai</td>\n",
       "      <td>23</td>\n",
       "    </tr>\n",
       "    <tr>\n",
       "      <th>3</th>\n",
       "      <td>Anuj</td>\n",
       "      <td>32</td>\n",
       "      <td>Phd</td>\n",
       "      <td>Patna</td>\n",
       "      <td>98</td>\n",
       "    </tr>\n",
       "  </tbody>\n",
       "</table>\n",
       "</div>"
      ],
      "text/plain": [
       "     Name  Age Qualification    Address  Score\n",
       "0     Jai   27           Msc      Delhi     40\n",
       "1  Princi   24            MA  Bangalore     56\n",
       "2  Gaurav   22           MCA    Chennai     23\n",
       "3    Anuj   32           Phd      Patna     98"
      ]
     },
     "execution_count": 8,
     "metadata": {},
     "output_type": "execute_result"
    }
   ],
   "source": [
    "# Declare a list that is to be converted into a column \n",
    "address = ['Delhi', 'Bangalore', 'Chennai', 'Patna'] \n",
    "score = [40,56,23,98]\n",
    "  \n",
    "# Using 'Address' as the column name \n",
    "# and equating it to the list \n",
    "df['Address'] = address \n",
    "df['Score'] = score\n",
    "# Observe the result \n",
    "df "
   ]
  },
  {
   "cell_type": "markdown",
   "metadata": {},
   "source": [
    "Column Deletion:\n",
    "\n",
    "In Order to delete a column in Pandas DataFrame, we can use the drop() method. Columns is deleted by dropping columns with column names."
   ]
  },
  {
   "cell_type": "code",
   "execution_count": 9,
   "metadata": {},
   "outputs": [
    {
     "name": "stdout",
     "output_type": "stream",
     "text": [
      "     Name  Age Qualification\n",
      "0     Jai   27           Msc\n",
      "1  Princi   24            MA\n",
      "2  Gaurav   22           MCA\n",
      "3    Anuj   32           Phd\n"
     ]
    }
   ],
   "source": [
    "# dropping passed columns \n",
    "df.drop([\"Address\", \"Score\"], axis = 1, inplace = True) \n",
    "  \n",
    "# display \n",
    "print(df)"
   ]
  },
  {
   "cell_type": "markdown",
   "metadata": {},
   "source": [
    "Row Selection: \n",
    "\n",
    "Pandas provide a unique method to retrieve rows from a Data frame. \n",
    "\n",
    "DataFrame.loc[] method is used to retrieve rows from Pandas DataFrame. \n",
    "\n",
    "Rows can also be selected by passing integer location to an iloc[] function."
   ]
  },
  {
   "cell_type": "code",
   "execution_count": 10,
   "metadata": {},
   "outputs": [
    {
     "name": "stdout",
     "output_type": "stream",
     "text": [
      "Age               27\n",
      "Qualification    Msc\n",
      "Name: Jai, dtype: object \n",
      "\n",
      "\n",
      " Age               32\n",
      "Qualification    Phd\n",
      "Name: Anuj, dtype: object\n"
     ]
    }
   ],
   "source": [
    "#index by name\n",
    "df.set_index(\"Name\",inplace=True)\n",
    "df\n",
    "# retrieving row by loc method\n",
    "first = df.loc[\"Jai\"]\n",
    "second = df.loc[\"Anuj\"]\n",
    " \n",
    " \n",
    "print(first, \"\\n\\n\\n\", second)"
   ]
  },
  {
   "cell_type": "code",
   "execution_count": 11,
   "metadata": {},
   "outputs": [
    {
     "data": {
      "text/plain": [
       "Age               22\n",
       "Qualification    MCA\n",
       "Name: Gaurav, dtype: object"
      ]
     },
     "execution_count": 11,
     "metadata": {},
     "output_type": "execute_result"
    }
   ],
   "source": [
    "# Using iloc[] function\n",
    "df.iloc[2,:]"
   ]
  },
  {
   "cell_type": "markdown",
   "metadata": {},
   "source": [
    "Row Addition:\n",
    "\n",
    "In Order to add a Row in Pandas DataFrame, we can concat the old dataframe with new one."
   ]
  },
  {
   "cell_type": "code",
   "execution_count": 12,
   "metadata": {},
   "outputs": [
    {
     "data": {
      "text/html": [
       "<div>\n",
       "<style scoped>\n",
       "    .dataframe tbody tr th:only-of-type {\n",
       "        vertical-align: middle;\n",
       "    }\n",
       "\n",
       "    .dataframe tbody tr th {\n",
       "        vertical-align: top;\n",
       "    }\n",
       "\n",
       "    .dataframe thead th {\n",
       "        text-align: right;\n",
       "    }\n",
       "</style>\n",
       "<table border=\"1\" class=\"dataframe\">\n",
       "  <thead>\n",
       "    <tr style=\"text-align: right;\">\n",
       "      <th></th>\n",
       "      <th>Address</th>\n",
       "      <th>Age</th>\n",
       "      <th>Name</th>\n",
       "      <th>Qualification</th>\n",
       "    </tr>\n",
       "  </thead>\n",
       "  <tbody>\n",
       "    <tr>\n",
       "      <th>0</th>\n",
       "      <td>Noida</td>\n",
       "      <td>33</td>\n",
       "      <td>Navin</td>\n",
       "      <td>Btech</td>\n",
       "    </tr>\n",
       "    <tr>\n",
       "      <th>1</th>\n",
       "      <td>Delhi</td>\n",
       "      <td>27</td>\n",
       "      <td>Jai</td>\n",
       "      <td>Msc</td>\n",
       "    </tr>\n",
       "    <tr>\n",
       "      <th>2</th>\n",
       "      <td>Gurgaon</td>\n",
       "      <td>24</td>\n",
       "      <td>Princi</td>\n",
       "      <td>MA</td>\n",
       "    </tr>\n",
       "    <tr>\n",
       "      <th>3</th>\n",
       "      <td>Haryana</td>\n",
       "      <td>22</td>\n",
       "      <td>Gaurav</td>\n",
       "      <td>MCA</td>\n",
       "    </tr>\n",
       "    <tr>\n",
       "      <th>4</th>\n",
       "      <td>Bihar</td>\n",
       "      <td>32</td>\n",
       "      <td>Anuj</td>\n",
       "      <td>Phd</td>\n",
       "    </tr>\n",
       "  </tbody>\n",
       "</table>\n",
       "</div>"
      ],
      "text/plain": [
       "   Address  Age    Name Qualification\n",
       "0    Noida   33   Navin         Btech\n",
       "1    Delhi   27     Jai           Msc\n",
       "2  Gurgaon   24  Princi            MA\n",
       "3  Haryana   22  Gaurav           MCA\n",
       "4    Bihar   32    Anuj           Phd"
      ]
     },
     "execution_count": 12,
     "metadata": {},
     "output_type": "execute_result"
    }
   ],
   "source": [
    "# Define a dictionary containing employee data\n",
    "data = {'Name':['Jai', 'Princi', 'Gaurav', 'Anuj'],\n",
    "        'Age':[27, 24, 22, 32],\n",
    "        'Qualification':['Msc', 'MA', 'MCA', 'Phd'],\n",
    "        'Address':['Delhi','Gurgaon','Haryana','Bihar'] }\n",
    "\n",
    "# Convert the dictionary into DataFrame \n",
    "df = pd.DataFrame(data)\n",
    "new_row = pd.DataFrame({'Name':'Navin', 'Age':33, 'Address':'Noida', \n",
    "                        'Qualification':'Btech'},index =[0]) \n",
    "# simply concatenate both dataframes \n",
    "df = pd.concat([new_row, df],sort=True).reset_index(drop = True) \n",
    "df"
   ]
  },
  {
   "cell_type": "markdown",
   "metadata": {},
   "source": [
    "Row Deletion:\n",
    "\n",
    "In Order to delete a row in Pandas DataFrame, we can use the drop() method. Rows is deleted by dropping Rows by index label."
   ]
  },
  {
   "cell_type": "code",
   "execution_count": 13,
   "metadata": {},
   "outputs": [
    {
     "data": {
      "text/html": [
       "<div>\n",
       "<style scoped>\n",
       "    .dataframe tbody tr th:only-of-type {\n",
       "        vertical-align: middle;\n",
       "    }\n",
       "\n",
       "    .dataframe tbody tr th {\n",
       "        vertical-align: top;\n",
       "    }\n",
       "\n",
       "    .dataframe thead th {\n",
       "        text-align: right;\n",
       "    }\n",
       "</style>\n",
       "<table border=\"1\" class=\"dataframe\">\n",
       "  <thead>\n",
       "    <tr style=\"text-align: right;\">\n",
       "      <th></th>\n",
       "      <th>Address</th>\n",
       "      <th>Age</th>\n",
       "      <th>Name</th>\n",
       "      <th>Qualification</th>\n",
       "    </tr>\n",
       "  </thead>\n",
       "  <tbody>\n",
       "    <tr>\n",
       "      <th>1</th>\n",
       "      <td>Delhi</td>\n",
       "      <td>27</td>\n",
       "      <td>Jai</td>\n",
       "      <td>Msc</td>\n",
       "    </tr>\n",
       "    <tr>\n",
       "      <th>2</th>\n",
       "      <td>Gurgaon</td>\n",
       "      <td>24</td>\n",
       "      <td>Princi</td>\n",
       "      <td>MA</td>\n",
       "    </tr>\n",
       "    <tr>\n",
       "      <th>3</th>\n",
       "      <td>Haryana</td>\n",
       "      <td>22</td>\n",
       "      <td>Gaurav</td>\n",
       "      <td>MCA</td>\n",
       "    </tr>\n",
       "    <tr>\n",
       "      <th>4</th>\n",
       "      <td>Bihar</td>\n",
       "      <td>32</td>\n",
       "      <td>Anuj</td>\n",
       "      <td>Phd</td>\n",
       "    </tr>\n",
       "  </tbody>\n",
       "</table>\n",
       "</div>"
      ],
      "text/plain": [
       "   Address  Age    Name Qualification\n",
       "1    Delhi   27     Jai           Msc\n",
       "2  Gurgaon   24  Princi            MA\n",
       "3  Haryana   22  Gaurav           MCA\n",
       "4    Bihar   32    Anuj           Phd"
      ]
     },
     "execution_count": 13,
     "metadata": {},
     "output_type": "execute_result"
    }
   ],
   "source": [
    "# dropping passed values \n",
    "df.drop([0], inplace = True) \n",
    "  \n",
    "# display \n",
    "df"
   ]
  },
  {
   "cell_type": "markdown",
   "metadata": {},
   "source": [
    "While analyzing the real datasets which are often very huge in size, we might need to get the column names in order to perform some certain operations.\n",
    "\n",
    "Let’s discuss how to get column names in Pandas dataframe.\n",
    "\n",
    "Method #1: Simply iterating over columns"
   ]
  },
  {
   "cell_type": "code",
   "execution_count": 14,
   "metadata": {},
   "outputs": [
    {
     "name": "stdout",
     "output_type": "stream",
     "text": [
      "Address\n",
      "Age\n",
      "Name\n",
      "Qualification\n"
     ]
    }
   ],
   "source": [
    "# iterating the columns \n",
    "for col in df.columns: \n",
    "    print(col) "
   ]
  },
  {
   "cell_type": "markdown",
   "metadata": {},
   "source": [
    "Method #2: Using columns with dataframe object"
   ]
  },
  {
   "cell_type": "code",
   "execution_count": 15,
   "metadata": {},
   "outputs": [
    {
     "data": {
      "text/plain": [
       "['Address', 'Age', 'Name', 'Qualification']"
      ]
     },
     "execution_count": 15,
     "metadata": {},
     "output_type": "execute_result"
    }
   ],
   "source": [
    "# list(data) or \n",
    "list(df.columns) \n"
   ]
  },
  {
   "cell_type": "markdown",
   "metadata": {},
   "source": [
    "Method #3: Using sorted() method\n",
    "\n",
    "Sorted() method will return the list of columns sorted in alphabetical order."
   ]
  },
  {
   "cell_type": "code",
   "execution_count": 16,
   "metadata": {},
   "outputs": [
    {
     "data": {
      "text/plain": [
       "['Address', 'Age', 'Name', 'Qualification']"
      ]
     },
     "execution_count": 16,
     "metadata": {},
     "output_type": "execute_result"
    }
   ],
   "source": [
    "# using sorted() method \n",
    "sorted(df) "
   ]
  },
  {
   "cell_type": "markdown",
   "metadata": {},
   "source": [
    "How to get rows/index names in Pandas dataframe"
   ]
  },
  {
   "cell_type": "code",
   "execution_count": 17,
   "metadata": {},
   "outputs": [
    {
     "name": "stdout",
     "output_type": "stream",
     "text": [
      "1 2 3 4 "
     ]
    }
   ],
   "source": [
    "# iterate the indices and print each one \n",
    "for row in df.index: \n",
    "    print(row, end= \" \") \n"
   ]
  },
  {
   "cell_type": "code",
   "execution_count": 18,
   "metadata": {},
   "outputs": [
    {
     "name": "stdout",
     "output_type": "stream",
     "text": [
      "   Address  Age    Name Qualification\n",
      "1    Delhi   27     Jai           Msc\n",
      "2  Gurgaon   24  Princi            MA\n",
      "3  Haryana   22  Gaurav           MCA\n",
      "4    Bihar   32    Anuj           Phd\n",
      "[1, 2, 3, 4]\n",
      "[1, 2, 3, 4]\n"
     ]
    }
   ],
   "source": [
    "print(df)\n",
    "# OR list(data_top) or \n",
    "print(list(df.index)) \n",
    "\n",
    "# OR\n",
    "print(list(df.index.values))"
   ]
  },
  {
   "cell_type": "markdown",
   "metadata": {},
   "source": [
    "Pandas Dataframe type has two attributes called ‘columns’ and ‘index’ which can be used to change the column names as well as the row indexes."
   ]
  },
  {
   "cell_type": "code",
   "execution_count": 19,
   "metadata": {},
   "outputs": [
    {
     "data": {
      "text/html": [
       "<div>\n",
       "<style scoped>\n",
       "    .dataframe tbody tr th:only-of-type {\n",
       "        vertical-align: middle;\n",
       "    }\n",
       "\n",
       "    .dataframe tbody tr th {\n",
       "        vertical-align: top;\n",
       "    }\n",
       "\n",
       "    .dataframe thead th {\n",
       "        text-align: right;\n",
       "    }\n",
       "</style>\n",
       "<table border=\"1\" class=\"dataframe\">\n",
       "  <thead>\n",
       "    <tr style=\"text-align: right;\">\n",
       "      <th></th>\n",
       "      <th>Name</th>\n",
       "      <th>Age</th>\n",
       "    </tr>\n",
       "  </thead>\n",
       "  <tbody>\n",
       "    <tr>\n",
       "      <th>0</th>\n",
       "      <td>Tom</td>\n",
       "      <td>15</td>\n",
       "    </tr>\n",
       "    <tr>\n",
       "      <th>1</th>\n",
       "      <td>Nick</td>\n",
       "      <td>26</td>\n",
       "    </tr>\n",
       "    <tr>\n",
       "      <th>2</th>\n",
       "      <td>John</td>\n",
       "      <td>17</td>\n",
       "    </tr>\n",
       "    <tr>\n",
       "      <th>3</th>\n",
       "      <td>Peter</td>\n",
       "      <td>28</td>\n",
       "    </tr>\n",
       "  </tbody>\n",
       "</table>\n",
       "</div>"
      ],
      "text/plain": [
       "    Name  Age\n",
       "0    Tom   15\n",
       "1   Nick   26\n",
       "2   John   17\n",
       "3  Peter   28"
      ]
     },
     "execution_count": 19,
     "metadata": {},
     "output_type": "execute_result"
    }
   ],
   "source": [
    "# first import the libraries \n",
    "import pandas as pd \n",
    "   \n",
    "# Create a dataFrame using dictionary \n",
    "df=pd.DataFrame({\"Name\":['Tom','Nick','John','Peter'], \n",
    "                 \"Age\":[15,26,17,28]}) \n",
    "  \n",
    "# Creates a dataFrame with \n",
    "# 2 columns and 4 rows \n",
    "df "
   ]
  },
  {
   "cell_type": "markdown",
   "metadata": {},
   "source": [
    "Method #1: Changing the column name and row index using df.columns and df.index attribute.\n",
    "In order to change the column names, we provide a Python list containing the names for column df.columns= ['First_col', 'Second_col', 'Third_col', .....].\n",
    "In order to change the row indexes, we also provide a python list to it df.index=['row1', 'row2', 'row3', ......]."
   ]
  },
  {
   "cell_type": "code",
   "execution_count": 20,
   "metadata": {},
   "outputs": [
    {
     "data": {
      "text/html": [
       "<div>\n",
       "<style scoped>\n",
       "    .dataframe tbody tr th:only-of-type {\n",
       "        vertical-align: middle;\n",
       "    }\n",
       "\n",
       "    .dataframe tbody tr th {\n",
       "        vertical-align: top;\n",
       "    }\n",
       "\n",
       "    .dataframe thead th {\n",
       "        text-align: right;\n",
       "    }\n",
       "</style>\n",
       "<table border=\"1\" class=\"dataframe\">\n",
       "  <thead>\n",
       "    <tr style=\"text-align: right;\">\n",
       "      <th></th>\n",
       "      <th>Col_1</th>\n",
       "      <th>Col_2</th>\n",
       "    </tr>\n",
       "  </thead>\n",
       "  <tbody>\n",
       "    <tr>\n",
       "      <th>Row_1</th>\n",
       "      <td>Tom</td>\n",
       "      <td>15</td>\n",
       "    </tr>\n",
       "    <tr>\n",
       "      <th>Row_2</th>\n",
       "      <td>Nick</td>\n",
       "      <td>26</td>\n",
       "    </tr>\n",
       "    <tr>\n",
       "      <th>Row_3</th>\n",
       "      <td>John</td>\n",
       "      <td>17</td>\n",
       "    </tr>\n",
       "    <tr>\n",
       "      <th>Row_4</th>\n",
       "      <td>Peter</td>\n",
       "      <td>28</td>\n",
       "    </tr>\n",
       "  </tbody>\n",
       "</table>\n",
       "</div>"
      ],
      "text/plain": [
       "       Col_1  Col_2\n",
       "Row_1    Tom     15\n",
       "Row_2   Nick     26\n",
       "Row_3   John     17\n",
       "Row_4  Peter     28"
      ]
     },
     "execution_count": 20,
     "metadata": {},
     "output_type": "execute_result"
    }
   ],
   "source": [
    "# Change the column names \n",
    "df.columns =['Col_1', 'Col_2'] \n",
    "  \n",
    "# Change the row indexes \n",
    "df.index = ['Row_1', 'Row_2', 'Row_3', 'Row_4'] \n",
    "  \n",
    "# printing the data frame \n",
    "df"
   ]
  },
  {
   "cell_type": "markdown",
   "metadata": {},
   "source": [
    "Method #2: Using rename() function with dictionary to change a single column\n",
    "filter_none\n",
    "brightness_4\n",
    "let's change the first column name \n",
    "from \"A\" to \"a\" using rename() function \n"
   ]
  },
  {
   "cell_type": "code",
   "execution_count": 21,
   "metadata": {},
   "outputs": [
    {
     "data": {
      "text/html": [
       "<div>\n",
       "<style scoped>\n",
       "    .dataframe tbody tr th:only-of-type {\n",
       "        vertical-align: middle;\n",
       "    }\n",
       "\n",
       "    .dataframe tbody tr th {\n",
       "        vertical-align: top;\n",
       "    }\n",
       "\n",
       "    .dataframe thead th {\n",
       "        text-align: right;\n",
       "    }\n",
       "</style>\n",
       "<table border=\"1\" class=\"dataframe\">\n",
       "  <thead>\n",
       "    <tr style=\"text-align: right;\">\n",
       "      <th></th>\n",
       "      <th>Mod_col</th>\n",
       "      <th>Col_2</th>\n",
       "    </tr>\n",
       "  </thead>\n",
       "  <tbody>\n",
       "    <tr>\n",
       "      <th>Row_1</th>\n",
       "      <td>Tom</td>\n",
       "      <td>15</td>\n",
       "    </tr>\n",
       "    <tr>\n",
       "      <th>Row_2</th>\n",
       "      <td>Nick</td>\n",
       "      <td>26</td>\n",
       "    </tr>\n",
       "    <tr>\n",
       "      <th>Row_3</th>\n",
       "      <td>John</td>\n",
       "      <td>17</td>\n",
       "    </tr>\n",
       "    <tr>\n",
       "      <th>Row_4</th>\n",
       "      <td>Peter</td>\n",
       "      <td>28</td>\n",
       "    </tr>\n",
       "  </tbody>\n",
       "</table>\n",
       "</div>"
      ],
      "text/plain": [
       "      Mod_col  Col_2\n",
       "Row_1     Tom     15\n",
       "Row_2    Nick     26\n",
       "Row_3    John     17\n",
       "Row_4   Peter     28"
      ]
     },
     "execution_count": 21,
     "metadata": {},
     "output_type": "execute_result"
    }
   ],
   "source": [
    "df = df.rename(columns = {\"Col_1\":\"Mod_col\"}) \n",
    "  \n",
    "df "
   ]
  },
  {
   "cell_type": "code",
   "execution_count": 22,
   "metadata": {},
   "outputs": [
    {
     "data": {
      "text/html": [
       "<div>\n",
       "<style scoped>\n",
       "    .dataframe tbody tr th:only-of-type {\n",
       "        vertical-align: middle;\n",
       "    }\n",
       "\n",
       "    .dataframe tbody tr th {\n",
       "        vertical-align: top;\n",
       "    }\n",
       "\n",
       "    .dataframe thead th {\n",
       "        text-align: right;\n",
       "    }\n",
       "</style>\n",
       "<table border=\"1\" class=\"dataframe\">\n",
       "  <thead>\n",
       "    <tr style=\"text-align: right;\">\n",
       "      <th></th>\n",
       "      <th>Col_1</th>\n",
       "      <th>B</th>\n",
       "    </tr>\n",
       "  </thead>\n",
       "  <tbody>\n",
       "    <tr>\n",
       "      <th>Row_1</th>\n",
       "      <td>Tom</td>\n",
       "      <td>15</td>\n",
       "    </tr>\n",
       "    <tr>\n",
       "      <th>Row_2</th>\n",
       "      <td>Nick</td>\n",
       "      <td>26</td>\n",
       "    </tr>\n",
       "    <tr>\n",
       "      <th>Row_3</th>\n",
       "      <td>John</td>\n",
       "      <td>17</td>\n",
       "    </tr>\n",
       "    <tr>\n",
       "      <th>Row_4</th>\n",
       "      <td>Peter</td>\n",
       "      <td>28</td>\n",
       "    </tr>\n",
       "  </tbody>\n",
       "</table>\n",
       "</div>"
      ],
      "text/plain": [
       "       Col_1   B\n",
       "Row_1    Tom  15\n",
       "Row_2   Nick  26\n",
       "Row_3   John  17\n",
       "Row_4  Peter  28"
      ]
     },
     "execution_count": 22,
     "metadata": {},
     "output_type": "execute_result"
    }
   ],
   "source": [
    "# We can change multiple column names by  \n",
    "# passing a dictionary of old names and  \n",
    "# new names, to the rename() function. \n",
    "df = df.rename({\"Mod_col\":\"Col_1\",\"Col_2\":\"B\"}, axis='columns') \n",
    "  \n",
    "df "
   ]
  },
  {
   "cell_type": "markdown",
   "metadata": {},
   "source": [
    "Method #3: Using Lambda Function to rename the columns.\n",
    "A lambda function is a small anonymous function which can take any number of arguments, but can only have one expression. Using the lambda function we can modify all of the column names at once. Let’s add ‘x’ at the end of each column name using lambda function"
   ]
  },
  {
   "cell_type": "code",
   "execution_count": 23,
   "metadata": {},
   "outputs": [
    {
     "data": {
      "text/html": [
       "<div>\n",
       "<style scoped>\n",
       "    .dataframe tbody tr th:only-of-type {\n",
       "        vertical-align: middle;\n",
       "    }\n",
       "\n",
       "    .dataframe tbody tr th {\n",
       "        vertical-align: top;\n",
       "    }\n",
       "\n",
       "    .dataframe thead th {\n",
       "        text-align: right;\n",
       "    }\n",
       "</style>\n",
       "<table border=\"1\" class=\"dataframe\">\n",
       "  <thead>\n",
       "    <tr style=\"text-align: right;\">\n",
       "      <th></th>\n",
       "      <th>Col_1x</th>\n",
       "      <th>Bx</th>\n",
       "    </tr>\n",
       "  </thead>\n",
       "  <tbody>\n",
       "    <tr>\n",
       "      <th>Row_1</th>\n",
       "      <td>Tom</td>\n",
       "      <td>15</td>\n",
       "    </tr>\n",
       "    <tr>\n",
       "      <th>Row_2</th>\n",
       "      <td>Nick</td>\n",
       "      <td>26</td>\n",
       "    </tr>\n",
       "    <tr>\n",
       "      <th>Row_3</th>\n",
       "      <td>John</td>\n",
       "      <td>17</td>\n",
       "    </tr>\n",
       "    <tr>\n",
       "      <th>Row_4</th>\n",
       "      <td>Peter</td>\n",
       "      <td>28</td>\n",
       "    </tr>\n",
       "  </tbody>\n",
       "</table>\n",
       "</div>"
      ],
      "text/plain": [
       "      Col_1x  Bx\n",
       "Row_1    Tom  15\n",
       "Row_2   Nick  26\n",
       "Row_3   John  17\n",
       "Row_4  Peter  28"
      ]
     },
     "execution_count": 23,
     "metadata": {},
     "output_type": "execute_result"
    }
   ],
   "source": [
    "df = df.rename(columns=lambda x: x+'x') \n",
    "  \n",
    "# this will modify all the column names \n",
    "df "
   ]
  },
  {
   "cell_type": "markdown",
   "metadata": {},
   "source": [
    "Method #4 : Using values attribute to rename the columns.\n",
    "We can use values attribute directly on the column whose name we want to change."
   ]
  },
  {
   "cell_type": "code",
   "execution_count": null,
   "metadata": {},
   "outputs": [],
   "source": [
    "df.columns.values[0] = 'Name'\n",
    "df.columns.values[1] = 'Student_Age'\n",
    "# this will modify the name of the first column \n",
    "df "
   ]
  },
  {
   "cell_type": "code",
   "execution_count": null,
   "metadata": {},
   "outputs": [],
   "source": [
    "# Let’s change the row index using the Lambda function.\n",
    "# To change the row indexes \n",
    "df = pd.DataFrame({\"A\":['Tom','Nick','John','Peter'], \n",
    "                   \"B\":[25,16,27,18]}) \n",
    "  \n",
    "# this will increase the row index value by 10 for each row \n",
    "df = df.rename(index = lambda x: x + 10) \n",
    "  \n",
    "df "
   ]
  },
  {
   "cell_type": "code",
   "execution_count": null,
   "metadata": {},
   "outputs": [],
   "source": [
    "df = df.rename(index = lambda x: x + 5, \n",
    "               columns = lambda x: x +'x') \n",
    "   \n",
    "# increase all the row index label by value 5 \n",
    "# append a value 'x' at the end of each column name.  \n",
    "df "
   ]
  },
  {
   "cell_type": "markdown",
   "metadata": {},
   "source": [
    "Get unique values from a column in Pandas DataFrame"
   ]
  },
  {
   "cell_type": "code",
   "execution_count": null,
   "metadata": {},
   "outputs": [],
   "source": [
    "# create a dictionary with five fields each \n",
    "data = { \n",
    "    'A':['A1', 'A2', 'A3', 'A4', 'A5'],  \n",
    "    'B':['B1', 'B2', 'B3', 'B4', 'B4'],  \n",
    "    'C':['C1', 'C2', 'C3', 'C3', 'C3'],  \n",
    "    'D':['D1', 'D2', 'D2', 'D2', 'D2'],  \n",
    "    'E':['E1', 'E1', 'E1', 'E1', 'E1'] } \n",
    "  \n",
    "# Convert the dictionary into DataFrame  \n",
    "dframe = pd.DataFrame(data) \n",
    "  \n",
    "# Get the unique values of 'B' column \n",
    "dframe.B.unique() "
   ]
  },
  {
   "cell_type": "code",
   "execution_count": null,
   "metadata": {},
   "outputs": [],
   "source": [
    "# Get the unique values of 'E' column \n",
    "dframe.E.unique() "
   ]
  },
  {
   "cell_type": "code",
   "execution_count": null,
   "metadata": {},
   "outputs": [],
   "source": [
    "dframe.E.nunique()"
   ]
  },
  {
   "cell_type": "markdown",
   "metadata": {},
   "source": [
    "## Reading a file in Pandas"
   ]
  },
  {
   "cell_type": "code",
   "execution_count": null,
   "metadata": {},
   "outputs": [],
   "source": [
    "# importing pandas module  \n",
    "import pandas as pd  \n",
    "    \n",
    "# making data frame  \n",
    "df = pd.read_csv(\"https://media.geeksforgeeks.org/wp-content/uploads/nba.csv\")  \n",
    "  \n",
    "df.head(15) "
   ]
  },
  {
   "cell_type": "code",
   "execution_count": null,
   "metadata": {},
   "outputs": [],
   "source": [
    "df.nsmallest(5, ['Salary']) "
   ]
  },
  {
   "cell_type": "code",
   "execution_count": null,
   "metadata": {},
   "outputs": [],
   "source": [
    "# five largest values in column age \n",
    "df.nlargest(5, ['Age'])"
   ]
  },
  {
   "cell_type": "code",
   "execution_count": null,
   "metadata": {},
   "outputs": [],
   "source": [
    "# Ten largest values in column Weight \n",
    "df.nlargest(10, ['Weight']) "
   ]
  },
  {
   "cell_type": "markdown",
   "metadata": {},
   "source": [
    "Apply uppercase to a column in Pandas dataframe"
   ]
  },
  {
   "cell_type": "code",
   "execution_count": null,
   "metadata": {},
   "outputs": [],
   "source": [
    "df['Name'] = df['Name'].str.upper() \n",
    "  \n",
    "df.head()"
   ]
  },
  {
   "cell_type": "code",
   "execution_count": null,
   "metadata": {},
   "outputs": [],
   "source": [
    "# removing null values to avoid errors   \n",
    "df.dropna(inplace = True)   \n",
    "  \n",
    "# Applying upper() method on 'College' column \n",
    "df['College'].apply(lambda x: x.upper()).head()"
   ]
  },
  {
   "cell_type": "markdown",
   "metadata": {},
   "source": [
    "Selecting some rows and some columns:\n",
    "\n",
    "In order to select two rows and three columns, we select a two rows which we want to select and three columns and put it in a separate list like this:"
   ]
  },
  {
   "cell_type": "code",
   "execution_count": null,
   "metadata": {},
   "outputs": [],
   "source": [
    "# making data frame from csv file. This is another way of reading a CSV file  \n",
    "data = pd.read_csv(\"nba.csv\", index_col =\"Name\") \n",
    "\n",
    "# retrieving two rows and three columns by loc method \n",
    "first = data.loc[[\"Avery Bradley\", \"R.J. Hunter\"], \n",
    "                   [\"Team\", \"Number\", \"Position\"]] \n",
    "\n",
    "print(first)"
   ]
  },
  {
   "cell_type": "markdown",
   "metadata": {},
   "source": [
    "Selecting all of the rows and some columns:\n",
    "\n",
    "In order to select all of the rows and some columns, we use single colon [:] to select all of rows and list of some columns which we want to select like this:"
   ]
  },
  {
   "cell_type": "code",
   "execution_count": null,
   "metadata": {
    "scrolled": true
   },
   "outputs": [],
   "source": [
    "# retrieving all rows and some columns by loc method \n",
    "first = data.loc[:, [\"Team\", \"Number\", \"Position\"]] \n",
    "first  "
   ]
  },
  {
   "cell_type": "code",
   "execution_count": null,
   "metadata": {},
   "outputs": [],
   "source": [
    "# retrieving rows by iloc method  \n",
    "row2 = data.iloc[3]  \n",
    "row2  "
   ]
  },
  {
   "cell_type": "code",
   "execution_count": null,
   "metadata": {},
   "outputs": [],
   "source": [
    "# retrieving two rows and two columns by iloc method  \n",
    "row2 = data.iloc [[3, 4], [1, 2]] \n",
    " \n",
    "print(row2) "
   ]
  },
  {
   "cell_type": "code",
   "execution_count": null,
   "metadata": {},
   "outputs": [],
   "source": [
    "# retrieving all rows and some columns by iloc method  \n",
    "row2 = data.iloc [:, [1, 2]] \n",
    "row2"
   ]
  },
  {
   "cell_type": "markdown",
   "metadata": {},
   "source": [
    "## View basic statistical details"
   ]
  },
  {
   "cell_type": "markdown",
   "metadata": {},
   "source": [
    "Pandas describe() is used to view some basic statistical details like percentile, mean, std etc. of a data frame or a series of numeric values. When this method is applied to a series of string, it returns a different output which is shown in the examples below."
   ]
  },
  {
   "cell_type": "code",
   "execution_count": null,
   "metadata": {},
   "outputs": [],
   "source": [
    "# percentile list \n",
    "perc =[.20, .40, .60, .80] \n",
    "  \n",
    "# list of dtypes to include \n",
    "include =['object', 'float', 'int'] \n",
    "  \n",
    "# calling describe method \n",
    "desc = df.describe(percentiles = perc, include = include) \n",
    "desc"
   ]
  },
  {
   "cell_type": "code",
   "execution_count": null,
   "metadata": {},
   "outputs": [],
   "source": [
    "df['College'].describe()"
   ]
  },
  {
   "cell_type": "markdown",
   "metadata": {},
   "source": [
    "Pandas cut() function is used to separate the array elements into different bins . The cut function is mainly used to perform statistical analysis on scalar data.  "
   ]
  },
  {
   "cell_type": "code",
   "execution_count": null,
   "metadata": {},
   "outputs": [],
   "source": [
    "import numpy as np \n",
    "   \n",
    "df= pd.DataFrame({'number': np.random.randint(1, 100, 20)}) \n",
    "df['bins'] = pd.cut(x=df['number'], bins=[1, 20, 40, 60,  \n",
    "                                          80, 100]) \n",
    "print(df) \n",
    "  \n",
    "\n",
    "# We can check the frequency of each bin \n",
    "print(df['bins'].unique())"
   ]
  },
  {
   "cell_type": "code",
   "execution_count": null,
   "metadata": {},
   "outputs": [],
   "source": [
    "# read by default 1st sheet of an excel file \n",
    "dataframe1 = pd.read_excel('SampleWork.xlsx') \n",
    "  \n",
    "print(dataframe1) "
   ]
  },
  {
   "cell_type": "markdown",
   "metadata": {},
   "source": [
    "Code #2 : Reading Specific Sheets using 'sheet_name' of read_excel() method."
   ]
  },
  {
   "cell_type": "code",
   "execution_count": null,
   "metadata": {},
   "outputs": [],
   "source": [
    "\n",
    "# read 2nd sheet of an excel file \n",
    "dataframe2 = pd.read_excel('SampleWork.xlsx', sheet_name = 0) \n",
    "  \n",
    "print(dataframe2) "
   ]
  },
  {
   "cell_type": "code",
   "execution_count": null,
   "metadata": {},
   "outputs": [],
   "source": [
    "\n",
    "# read 2nd sheet of an excel file \n",
    "dataframe2 = pd.read_excel('SampleWork.xlsx', sheet_name = 'Data') \n",
    "  \n",
    "print(dataframe2) "
   ]
  },
  {
   "cell_type": "code",
   "execution_count": null,
   "metadata": {},
   "outputs": [],
   "source": []
  },
  {
   "cell_type": "code",
   "execution_count": null,
   "metadata": {},
   "outputs": [],
   "source": [
    "require_cols = [0, 3] \n",
    "  \n",
    "# only read specific columns from an excel file \n",
    "required_df = pd.read_excel('SampleWork.xlsx', usecols = require_cols) \n",
    "  \n",
    "print(required_df) "
   ]
  },
  {
   "cell_type": "markdown",
   "metadata": {},
   "source": [
    "Skip starting rows when Reading an Excel File using 'skiprows' parameter of read_excel() method."
   ]
  },
  {
   "cell_type": "code",
   "execution_count": null,
   "metadata": {},
   "outputs": [],
   "source": [
    "# read 2nd sheet of an excel file after \n",
    "# skipping starting two rows  \n",
    "df = pd.read_excel('SampleWork.xlsx', sheet_name = 1, skiprows = 2) \n",
    "  \n",
    "print(df)"
   ]
  },
  {
   "cell_type": "markdown",
   "metadata": {},
   "source": [
    "Set the header to any row and start reading from that row, using 'header' parameter of the read_excel() method."
   ]
  },
  {
   "cell_type": "code",
   "execution_count": null,
   "metadata": {
    "scrolled": true
   },
   "outputs": [],
   "source": [
    "# setting the 3rd row as header. \n",
    "df = pd.read_excel('SampleWork.xlsx', sheet_name = 1, header = 0) \n",
    "  \n",
    "print(df) "
   ]
  },
  {
   "cell_type": "markdown",
   "metadata": {},
   "source": [
    "Reading Multiple Excel Sheets using 'sheet_name' parameter of the read_excel()method."
   ]
  },
  {
   "cell_type": "code",
   "execution_count": null,
   "metadata": {},
   "outputs": [],
   "source": [
    "# read both 1st and 2nd sheet. \n",
    "df = pd.read_excel('SampleWork.xlsx',  sheet_name =[0, 1]) \n",
    "  \n",
    "print(df)"
   ]
  },
  {
   "cell_type": "markdown",
   "metadata": {},
   "source": [
    "## Saving a Pandas Dataframe as a CSV"
   ]
  },
  {
   "cell_type": "code",
   "execution_count": null,
   "metadata": {},
   "outputs": [],
   "source": [
    "df.to_csv('file1.csv')"
   ]
  },
  {
   "cell_type": "markdown",
   "metadata": {},
   "source": [
    "## Iterating over rows and columns in Pandas DataFrame"
   ]
  },
  {
   "cell_type": "markdown",
   "metadata": {},
   "source": [
    "In Pandas Dataframe we can iterate an element in two ways:\n",
    "\n",
    "Iterating over rows\n",
    "\n",
    "Iterating over columns"
   ]
  },
  {
   "cell_type": "code",
   "execution_count": null,
   "metadata": {
    "scrolled": true
   },
   "outputs": [],
   "source": [
    "   \n",
    "# dictionary of lists \n",
    "dict = {'name':[\"aparna\", \"pankaj\", \"sudhir\", \"Geeku\"], \n",
    "        'degree': [\"MBA\", \"BCA\", \"M.Tech\", \"MBA\"], \n",
    "        'score':[90, 40, 80, 98]} \n",
    "  \n",
    "# creating a dataframe from a dictionary  \n",
    "df = pd.DataFrame(dict) \n",
    "  \n",
    "# iterating over rows using iterrows() function  \n",
    "for i, j in df.iterrows(): \n",
    "    print(i, j) \n",
    "    "
   ]
  },
  {
   "cell_type": "markdown",
   "metadata": {},
   "source": [
    "Iteration over rows using itertuples()"
   ]
  },
  {
   "cell_type": "code",
   "execution_count": null,
   "metadata": {
    "scrolled": true
   },
   "outputs": [],
   "source": [
    "# using a itertuples()  \n",
    "for i in df.itertuples(): \n",
    "    print(i) "
   ]
  },
  {
   "cell_type": "markdown",
   "metadata": {},
   "source": [
    "\n",
    "Now we iterate through columns in order to iterate through columns we first create a list of dataframe columns and then iterate through list."
   ]
  },
  {
   "cell_type": "code",
   "execution_count": null,
   "metadata": {
    "scrolled": true
   },
   "outputs": [],
   "source": [
    "# creating a list of dataframe columns \n",
    "columns = list(df) \n",
    "  \n",
    "for i in columns: \n",
    "  \n",
    "    # printing the third element of the column \n",
    "    print (df[i][2]) "
   ]
  },
  {
   "cell_type": "markdown",
   "metadata": {},
   "source": [
    "## Sorting using Pandas "
   ]
  },
  {
   "cell_type": "code",
   "execution_count": null,
   "metadata": {
    "scrolled": true
   },
   "outputs": [],
   "source": [
    "# making data frame from csv file \n",
    "data = pd.read_csv(\"nba.csv\") \n",
    "  \n",
    "# sorting data frame by name \n",
    "data.sort_values(\"Name\", axis = 0, ascending = True, \n",
    "                 inplace = True, na_position ='last') \n",
    "  \n",
    "# display \n",
    "data.head()"
   ]
  },
  {
   "cell_type": "markdown",
   "metadata": {},
   "source": [
    "Example #2: Changing position of Null values\n",
    "\n",
    "In the give data, there are many null values in different columns which are put in the last by default. In this example, the Data Frame is sorted with respect to Salary column and Null values are kept at the top."
   ]
  },
  {
   "cell_type": "code",
   "execution_count": null,
   "metadata": {
    "scrolled": true
   },
   "outputs": [],
   "source": [
    "\n",
    "# making data frame from csv file \n",
    "data = pd.read_csv(\"nba.csv\") \n",
    "  \n",
    "# sorting data frame by name \n",
    "data.sort_values(\"Salary\", axis = 0, ascending = True, \n",
    "                 inplace = True, na_position ='first') \n",
    "  \n",
    "data.head(30) \n",
    "# display "
   ]
  },
  {
   "cell_type": "code",
   "execution_count": null,
   "metadata": {
    "scrolled": true
   },
   "outputs": [],
   "source": [
    "# Example #1: Sorting by Name and Team\n",
    "# In the following example, A data frame is made from the csv file and the data frame is sorted in ascending order of \n",
    "# Team and in every Team the Name is also sorted in Ascending order.\n",
    "#making data frame from csv file \n",
    "data=pd.read_csv(\"nba.csv\") \n",
    "  \n",
    "#sorting data frame by Team and then By names \n",
    "data.sort_values([\"Team\", \"Name\"], axis=0, \n",
    "                 ascending=True, inplace=True) \n",
    "  \n",
    "#display \n",
    "data "
   ]
  },
  {
   "cell_type": "markdown",
   "metadata": {},
   "source": [
    "Example #2: Passing list to Ascending Parameter\n",
    "\n",
    "As shown in the above example, a Data frame can be sorted with respect to multiple columns by passing a list to the ‘by’ Parameter. We can also pass a list to the ‘ascending’ Parameter to tell pandas which column to sort how.\n",
    "The index of Boolean in ‘ascending’ parameter should be same as the index of column name in ‘by’ Parameter.\n",
    "\n"
   ]
  },
  {
   "cell_type": "code",
   "execution_count": null,
   "metadata": {},
   "outputs": [],
   "source": [
    "\n",
    "#making data frame from csv file \n",
    "data=pd.read_csv(\"nba.csv\") \n",
    "  \n",
    "#sorting data frame by Team and then By names \n",
    "data.sort_values([\"Team\", \"Name\"], axis=0, \n",
    "                 ascending=[True,False], inplace=True) \n",
    "  \n",
    "#display \n",
    "data "
   ]
  },
  {
   "cell_type": "markdown",
   "metadata": {},
   "source": [
    "## Working With Text Data"
   ]
  },
  {
   "cell_type": "code",
   "execution_count": null,
   "metadata": {},
   "outputs": [],
   "source": [
    "# Define a dictionary containing employee data \n",
    "data = {'Name':['Jai', 'Princi', 'Gaurav', 'Anuj'], \n",
    "        'Age':[27, 24, 22, 32], \n",
    "        'Address':['Delhi', 'Kanpur', 'Allahabad', 'Kannauj'], \n",
    "        'Qualification':['Msc', 'MA', 'MCA', 'Phd']} \n",
    "   \n",
    "# Convert the dictionary into DataFrame  \n",
    "df = pd.DataFrame(data) \n",
    "   \n",
    "# converting and overwriting values in column \n",
    "df[\"Name\"]= df[\"Name\"].str.lower()\n",
    " \n",
    "df"
   ]
  },
  {
   "cell_type": "markdown",
   "metadata": {},
   "source": [
    "Splitting and Replacing a Data\n",
    "\n",
    "In order to split a data, we use str.split() this function returns a list of strings after breaking the given string by the specified separator but it can only be applied to an individual string. Pandas str.split() method can be applied to a whole series. .str has to be prefixed every time before calling this method to differentiate it from the Python’s default function otherwise, it will throw an error. In order to replace a data, we use str.replace() this function works like Python .replace() method only, but it works on Series too. Before calling .replace() on a Pandas series, .str has to be prefixed in order to differentiate it from the Python’s default replace method."
   ]
  },
  {
   "cell_type": "code",
   "execution_count": null,
   "metadata": {},
   "outputs": [],
   "source": [
    "# Define a dictionary containing employee data \n",
    "data = {'Name':['Jai', 'Princi', 'Gaurav', 'Anuj'], \n",
    "        'Age':[27, 24, 22, 32], \n",
    "        'Address':['Nagpur', 'Kanpur', 'Allahabad', 'Knnuaj'], \n",
    "        'Qualification':['Msc', 'MA', 'MCA', 'Phd']} \n",
    " \n",
    "# Convert the dictionary into DataFrame  \n",
    "df = pd.DataFrame(data) \n",
    "    \n",
    "# dropping null value columns to avoid errors \n",
    "df.dropna(inplace = True) \n",
    "    \n",
    "# new data frame with split value columns \n",
    "df[\"Address\"]= df[\"Address\"].str.split(\"a\", n = 1, expand = True) \n",
    "   \n",
    "# df display \n",
    "print(df)"
   ]
  },
  {
   "cell_type": "markdown",
   "metadata": {},
   "source": [
    "This Pandas exercise will help the learners to get a better understanding of data analysis problems. This practice page consists of a huge set of Pandas programs like Pandas Dataframe/series, handling Rows/Columns, grouping and all sort of frequently encounterd problems.\n",
    "\n",
    "https://www.geeksforgeeks.org/pandas-practice-excercises-questions-and-solutions/"
   ]
  },
  {
   "cell_type": "markdown",
   "metadata": {},
   "source": [
    "# Great job!"
   ]
  },
  {
   "cell_type": "code",
   "execution_count": null,
   "metadata": {},
   "outputs": [],
   "source": []
  }
 ],
 "metadata": {
  "kernelspec": {
   "display_name": "Python 3 (ipykernel)",
   "language": "python",
   "name": "python3"
  },
  "language_info": {
   "codemirror_mode": {
    "name": "ipython",
    "version": 3
   },
   "file_extension": ".py",
   "mimetype": "text/x-python",
   "name": "python",
   "nbconvert_exporter": "python",
   "pygments_lexer": "ipython3",
   "version": "3.9.7"
  }
 },
 "nbformat": 4,
 "nbformat_minor": 2
}
