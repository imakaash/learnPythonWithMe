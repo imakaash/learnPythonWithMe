{
 "cells": [
  {
   "cell_type": "markdown",
   "metadata": {},
   "source": [
    "# Data Cleaning in Python\n",
    "#### Data cleaning, or cleansing, is the process of correcting and deleting inaccurate records from a database or table. It mainly consists of identifying and replacing incomplete, inaccurate, irrelevant, or otherwise problematic (‘dirty’) data and records."
   ]
  },
  {
   "cell_type": "markdown",
   "metadata": {},
   "source": [
    "### Issues in Datasets:\n",
    "\t- Missing Values\n",
    "\t- Irrelevant data\n",
    "\t- Duplicated records\n",
    "\t- Outliers\n",
    "    - Noise Values\n",
    "\t- …\n",
    "##### The error in the data is primarily due to source of the data."
   ]
  },
  {
   "cell_type": "markdown",
   "metadata": {},
   "source": [
    "### Outlier\n",
    "##### Data that is out of range of data that we expect\n",
    "##### Noise Value: Unwanted and wrong data\n",
    "\n",
    "\n",
    "Example: In a 50–100 people Average annual income/assets classifier if you include Bill Gates then automatically everyone in that study becomes a millionaire on an average. \n",
    "#### An outlier is not a false value or void in meaning. It is definite and accurate but when it is linked with the other data in your model, it is just not in the same range. \n",
    "\n",
    "\n",
    "### How to detect Outliers?\n",
    "- Using box plot\n",
    "- Using Z score\n",
    "- IQR (Inter Quartile Range)\n",
    "\n",
    "\n",
    "\n"
   ]
  },
  {
   "cell_type": "code",
   "execution_count": 24,
   "metadata": {},
   "outputs": [],
   "source": [
    "import pandas as pd\n",
    "import numpy as np "
   ]
  },
  {
   "cell_type": "code",
   "execution_count": 25,
   "metadata": {},
   "outputs": [],
   "source": [
    "outlier_data= [10,22,22,33,22,41,74,83,25,30,60,20,62,74,23,890,899,32,68, 97,43,12,25,92,23,12,59,24,33,85,30,1001,45,22,52,1005]"
   ]
  },
  {
   "cell_type": "code",
   "execution_count": 26,
   "metadata": {},
   "outputs": [],
   "source": [
    "df = pd.DataFrame(outlier_data, columns=['Values'])"
   ]
  },
  {
   "cell_type": "code",
   "execution_count": 27,
   "metadata": {},
   "outputs": [
    {
     "data": {
      "text/html": [
       "<div>\n",
       "<style scoped>\n",
       "    .dataframe tbody tr th:only-of-type {\n",
       "        vertical-align: middle;\n",
       "    }\n",
       "\n",
       "    .dataframe tbody tr th {\n",
       "        vertical-align: top;\n",
       "    }\n",
       "\n",
       "    .dataframe thead th {\n",
       "        text-align: right;\n",
       "    }\n",
       "</style>\n",
       "<table border=\"1\" class=\"dataframe\">\n",
       "  <thead>\n",
       "    <tr style=\"text-align: right;\">\n",
       "      <th></th>\n",
       "      <th>Values</th>\n",
       "    </tr>\n",
       "  </thead>\n",
       "  <tbody>\n",
       "    <tr>\n",
       "      <th>0</th>\n",
       "      <td>10</td>\n",
       "    </tr>\n",
       "    <tr>\n",
       "      <th>1</th>\n",
       "      <td>22</td>\n",
       "    </tr>\n",
       "    <tr>\n",
       "      <th>2</th>\n",
       "      <td>22</td>\n",
       "    </tr>\n",
       "    <tr>\n",
       "      <th>3</th>\n",
       "      <td>33</td>\n",
       "    </tr>\n",
       "    <tr>\n",
       "      <th>4</th>\n",
       "      <td>22</td>\n",
       "    </tr>\n",
       "  </tbody>\n",
       "</table>\n",
       "</div>"
      ],
      "text/plain": [
       "   Values\n",
       "0      10\n",
       "1      22\n",
       "2      22\n",
       "3      33\n",
       "4      22"
      ]
     },
     "execution_count": 27,
     "metadata": {},
     "output_type": "execute_result"
    }
   ],
   "source": [
    "df.head()"
   ]
  },
  {
   "cell_type": "code",
   "execution_count": 28,
   "metadata": {},
   "outputs": [
    {
     "data": {
      "text/plain": [
       "<matplotlib.axes._subplots.AxesSubplot at 0x243fd07c388>"
      ]
     },
     "execution_count": 28,
     "metadata": {},
     "output_type": "execute_result"
    },
    {
     "data": {
      "image/png": "[encoded data removed]",
      "text/plain": [
       "<Figure size 432x288 with 1 Axes>"
      ]
     },
     "metadata": {
      "needs_background": "light"
     },
     "output_type": "display_data"
    }
   ],
   "source": [
    "#Box Plot uses IQR\n",
    "\n",
    "df.boxplot(column=['Values'])"
   ]
  },
  {
   "cell_type": "markdown",
   "metadata": {},
   "source": [
    "### Using Z score\n",
    "The value of the z-score tells, how many standard deviations a  datapoint is away from the mean. \n",
    "\n",
    "If a z-score is equal to 0, it is on the mean.\n",
    "\n",
    "Formula for Z score = (Observation — Mean)/Standard Deviation\n",
    "\n",
    "z = (X — μ) / σ\n",
    "\n",
    "The z-score is positive if the value lies above the mean, and negative if it lies below the mean."
   ]
  },
  {
   "cell_type": "code",
   "execution_count": 29,
   "metadata": {},
   "outputs": [
    {
     "name": "stdout",
     "output_type": "stream",
     "text": [
      "Values    143.055556\n",
      "dtype: float64\n",
      "Values    290.46504\n",
      "dtype: float64\n",
      "Values    37.0\n",
      "dtype: float64\n"
     ]
    }
   ],
   "source": [
    "print(df.mean())\n",
    "print(df.std())\n",
    "print(df.median())"
   ]
  },
  {
   "cell_type": "code",
   "execution_count": 30,
   "metadata": {},
   "outputs": [],
   "source": [
    "outliers=[]\n",
    "def detect_outlier(data):\n",
    "    \n",
    "    threshold=2\n",
    "    mean_1 = np.mean(data)\n",
    "    std_1 = np.std(data)\n",
    "    \n",
    "    \n",
    "    for y in data:\n",
    "        z_score= (y - mean_1)/std_1 \n",
    "        if np.abs(z_score) > threshold:\n",
    "            outliers.append(y)\n",
    "    return outliers"
   ]
  },
  {
   "cell_type": "code",
   "execution_count": 31,
   "metadata": {},
   "outputs": [
    {
     "data": {
      "text/plain": [
       "[890, 899, 1001, 1005]"
      ]
     },
     "execution_count": 31,
     "metadata": {},
     "output_type": "execute_result"
    }
   ],
   "source": [
    "outlier_datapoints = detect_outlier(outlier_data)\n",
    "outlier_datapoints"
   ]
  },
  {
   "cell_type": "markdown",
   "metadata": {},
   "source": [
    "### InterQuartile Range\n",
    "75% - 25% values in the dataset\n",
    "\n",
    "IQR tells how spread the middle values are. It can be used to tell when a value is too far from the middle.\n",
    "An outlier is a point which falls more than 1.5 times the interquartile range above the third quartile or below the first quartile.\n",
    "\n",
    "Steps\n",
    "- Arrange the data in increasing order.\n",
    "- Calculate the first quartile(q1) and third quartile(q2)\n",
    "- Find the interquartile range (q3 - q1)\n",
    "- Find lower bound  q1 - (1.5 *  iqr)\n",
    "- Find upper bound  q3 + (1.5 * iqr)\n",
    "- Anything that lies lower and upper bound is an outlier"
   ]
  },
  {
   "cell_type": "code",
   "execution_count": 32,
   "metadata": {},
   "outputs": [
    {
     "data": {
      "text/plain": [
       "[10,\n",
       " 12,\n",
       " 12,\n",
       " 20,\n",
       " 22,\n",
       " 22,\n",
       " 22,\n",
       " 22,\n",
       " 23,\n",
       " 23,\n",
       " 24,\n",
       " 25,\n",
       " 25,\n",
       " 30,\n",
       " 30,\n",
       " 32,\n",
       " 33,\n",
       " 33,\n",
       " 41,\n",
       " 43,\n",
       " 45,\n",
       " 52,\n",
       " 59,\n",
       " 60,\n",
       " 62,\n",
       " 68,\n",
       " 74,\n",
       " 74,\n",
       " 83,\n",
       " 85,\n",
       " 92,\n",
       " 97,\n",
       " 890,\n",
       " 899,\n",
       " 1001,\n",
       " 1005]"
      ]
     },
     "execution_count": 32,
     "metadata": {},
     "output_type": "execute_result"
    }
   ],
   "source": [
    "sorted(outlier_data)"
   ]
  },
  {
   "cell_type": "code",
   "execution_count": 33,
   "metadata": {},
   "outputs": [],
   "source": [
    "q1, q3= np.percentile(outlier_data ,[25,75])"
   ]
  },
  {
   "cell_type": "code",
   "execution_count": 34,
   "metadata": {},
   "outputs": [
    {
     "data": {
      "text/plain": [
       "51.0"
      ]
     },
     "execution_count": 34,
     "metadata": {},
     "output_type": "execute_result"
    }
   ],
   "source": [
    "iqr = q3 - q1\n",
    "iqr"
   ]
  },
  {
   "cell_type": "code",
   "execution_count": 35,
   "metadata": {},
   "outputs": [],
   "source": [
    "lower_bound_val = q1 - (1.5 *  iqr)\n",
    "upper_bound_val = q3 + (1.5 * iqr)"
   ]
  },
  {
   "cell_type": "code",
   "execution_count": 36,
   "metadata": {},
   "outputs": [
    {
     "data": {
      "text/plain": [
       "-53.5"
      ]
     },
     "execution_count": 36,
     "metadata": {},
     "output_type": "execute_result"
    }
   ],
   "source": [
    "lower_bound_val"
   ]
  },
  {
   "cell_type": "code",
   "execution_count": 37,
   "metadata": {},
   "outputs": [
    {
     "data": {
      "text/plain": [
       "150.5"
      ]
     },
     "execution_count": 37,
     "metadata": {},
     "output_type": "execute_result"
    }
   ],
   "source": [
    "upper_bound_val"
   ]
  },
  {
   "cell_type": "code",
   "execution_count": 38,
   "metadata": {},
   "outputs": [
    {
     "data": {
      "text/plain": [
       "[890, 899, 1001, 1005]"
      ]
     },
     "execution_count": 38,
     "metadata": {},
     "output_type": "execute_result"
    }
   ],
   "source": [
    "outlier_iqr_list=[]\n",
    "for d in outlier_data:\n",
    "    if d < lower_bound_val or d > upper_bound_val:\n",
    "        outlier_iqr_list.append(d)\n",
    "        \n",
    "outlier_iqr_list\n",
    "    "
   ]
  },
  {
   "cell_type": "code",
   "execution_count": 39,
   "metadata": {},
   "outputs": [],
   "source": [
    "#Removing the Outlier\n",
    "df = df[(df.Values<150.5) & (df.Values>-53.5)]"
   ]
  },
  {
   "cell_type": "code",
   "execution_count": 40,
   "metadata": {},
   "outputs": [
    {
     "data": {
      "text/html": [
       "<div>\n",
       "<style scoped>\n",
       "    .dataframe tbody tr th:only-of-type {\n",
       "        vertical-align: middle;\n",
       "    }\n",
       "\n",
       "    .dataframe tbody tr th {\n",
       "        vertical-align: top;\n",
       "    }\n",
       "\n",
       "    .dataframe thead th {\n",
       "        text-align: right;\n",
       "    }\n",
       "</style>\n",
       "<table border=\"1\" class=\"dataframe\">\n",
       "  <thead>\n",
       "    <tr style=\"text-align: right;\">\n",
       "      <th></th>\n",
       "      <th>Values</th>\n",
       "    </tr>\n",
       "  </thead>\n",
       "  <tbody>\n",
       "    <tr>\n",
       "      <th>0</th>\n",
       "      <td>10</td>\n",
       "    </tr>\n",
       "    <tr>\n",
       "      <th>1</th>\n",
       "      <td>22</td>\n",
       "    </tr>\n",
       "    <tr>\n",
       "      <th>2</th>\n",
       "      <td>22</td>\n",
       "    </tr>\n",
       "    <tr>\n",
       "      <th>3</th>\n",
       "      <td>33</td>\n",
       "    </tr>\n",
       "    <tr>\n",
       "      <th>4</th>\n",
       "      <td>22</td>\n",
       "    </tr>\n",
       "  </tbody>\n",
       "</table>\n",
       "</div>"
      ],
      "text/plain": [
       "   Values\n",
       "0      10\n",
       "1      22\n",
       "2      22\n",
       "3      33\n",
       "4      22"
      ]
     },
     "execution_count": 40,
     "metadata": {},
     "output_type": "execute_result"
    }
   ],
   "source": [
    "df.head()"
   ]
  },
  {
   "cell_type": "markdown",
   "metadata": {},
   "source": [
    "### Text data \n",
    "In machine learning we ultimately always work with numbers or specifically vectors.\n",
    "##### A vector is simply an array of numbers, such as (1, 2, 3)—or a nested array that contains other arrays of numbers, such as (1, 2, (1, 2, 3)).\n",
    "\n",
    "The main points:\n",
    "\n",
    "    -All non-numerical data types (such as images, text, and categories) must eventually be represented as numbers\n",
    "    -In machine learning, the numerical representation will be in the form of an array of numbers—that is, a vector\n",
    "    \n",
    "Therefore, Text data needs to be cleaned and encoded to numerical values before giving them to machine learning models, this process of cleaning and encoding is called as Text Preprocessing\n",
    "\n",
    "#### Steps to clean Text Data\n",
    "    - Capitalization/De-capitalization\n",
    "    - Removal of punctuation\n",
    "    - Tokenization\n",
    "    - Removal of Stopwords\n",
    "    - Lemmatizing/Stemming"
   ]
  },
  {
   "cell_type": "code",
   "execution_count": 41,
   "metadata": {},
   "outputs": [],
   "source": [
    "import nltk"
   ]
  },
  {
   "cell_type": "code",
   "execution_count": 42,
   "metadata": {},
   "outputs": [],
   "source": [
    "#]nltk.download()\n",
    "#uncomment the abover line if you don't have installed nltk packages\n"
   ]
  },
  {
   "cell_type": "code",
   "execution_count": 43,
   "metadata": {},
   "outputs": [],
   "source": [
    "data = \"it has become imperative for an organization to have a structure in place to mine actionable insights from the text being generated. from social media analytics to risk management and cybercrime protection, \\\n",
    "dealing with text data has never been more important.\""
   ]
  },
  {
   "cell_type": "markdown",
   "metadata": {},
   "source": [
    "## Removal of punctuation: \n",
    "Punctuation marks don’t add much information to the data, hence we need to remove it. "
   ]
  },
  {
   "cell_type": "code",
   "execution_count": 44,
   "metadata": {},
   "outputs": [
    {
     "name": "stdout",
     "output_type": "stream",
     "text": [
      "!\"#$%&'()*+,-./:;<=>?@[\\]^_`{|}~\n"
     ]
    },
    {
     "data": {
      "text/plain": [
       "'it has become imperative for an organization to have a structure in place to mine actionable insights from the text being generated from social media analytics to risk management and cybercrime protection dealing with text data has never been more important'"
      ]
     },
     "execution_count": 44,
     "metadata": {},
     "output_type": "execute_result"
    }
   ],
   "source": [
    "#importing python library\n",
    "import string\n",
    "print( string.punctuation)\n",
    "\n",
    "#checking each character whether it contains any punctuation\n",
    "nopunc = []\n",
    "for char in data:\n",
    "    if char not in string.punctuation:\n",
    "        nopunc.append(char)\n",
    "\n",
    "#joining all the individual characters into words\n",
    "nopunc = ''.join(nopunc)\n",
    "nopunc"
   ]
  },
  {
   "cell_type": "markdown",
   "metadata": {},
   "source": [
    "## Tokenization: \n",
    "The process of breaking down a text paragraph into smaller chunks such as words or sentence is called Tokenization. \n",
    ". "
   ]
  },
  {
   "cell_type": "code",
   "execution_count": 45,
   "metadata": {},
   "outputs": [
    {
     "data": {
      "text/plain": [
       "['it',\n",
       " 'has',\n",
       " 'become',\n",
       " 'imperative',\n",
       " 'for',\n",
       " 'an',\n",
       " 'organization',\n",
       " 'to',\n",
       " 'have',\n",
       " 'a',\n",
       " 'structure',\n",
       " 'in',\n",
       " 'place',\n",
       " 'to',\n",
       " 'mine',\n",
       " 'actionable',\n",
       " 'insights',\n",
       " 'from',\n",
       " 'the',\n",
       " 'text',\n",
       " 'being',\n",
       " 'generated',\n",
       " 'from',\n",
       " 'social',\n",
       " 'media',\n",
       " 'analytics',\n",
       " 'to',\n",
       " 'risk',\n",
       " 'management',\n",
       " 'and',\n",
       " 'cybercrime',\n",
       " 'protection',\n",
       " 'dealing',\n",
       " 'with',\n",
       " 'text',\n",
       " 'data',\n",
       " 'has',\n",
       " 'never',\n",
       " 'been',\n",
       " 'more',\n",
       " 'important']"
      ]
     },
     "execution_count": 45,
     "metadata": {},
     "output_type": "execute_result"
    }
   ],
   "source": [
    "#Simple tokenization example using split function on Whitespaces\n",
    "nopunc.split()"
   ]
  },
  {
   "cell_type": "code",
   "execution_count": 46,
   "metadata": {},
   "outputs": [
    {
     "data": {
      "text/plain": [
       "['it',\n",
       " 'has',\n",
       " 'become',\n",
       " 'imperative',\n",
       " 'for',\n",
       " 'an',\n",
       " 'organization',\n",
       " 'to',\n",
       " 'have',\n",
       " 'a',\n",
       " 'structure',\n",
       " 'in',\n",
       " 'place',\n",
       " 'to',\n",
       " 'mine',\n",
       " 'actionable',\n",
       " 'insights',\n",
       " 'from',\n",
       " 'the',\n",
       " 'text',\n",
       " 'being',\n",
       " 'generated',\n",
       " 'from',\n",
       " 'social',\n",
       " 'media',\n",
       " 'analytics',\n",
       " 'to',\n",
       " 'risk',\n",
       " 'management',\n",
       " 'and',\n",
       " 'cybercrime',\n",
       " 'protection',\n",
       " 'dealing',\n",
       " 'with',\n",
       " 'text',\n",
       " 'data',\n",
       " 'has',\n",
       " 'never',\n",
       " 'been',\n",
       " 'more',\n",
       " 'important']"
      ]
     },
     "execution_count": 46,
     "metadata": {},
     "output_type": "execute_result"
    }
   ],
   "source": [
    "#using nltk library to tokenize on whitespaces and punctuation\n",
    "from nltk.tokenize import word_tokenize\n",
    "tokens = word_tokenize(nopunc)\n",
    "tokens"
   ]
  },
  {
   "cell_type": "markdown",
   "metadata": {},
   "source": [
    "## Removal of Stopwords: \n",
    "Stopwords considered as noise in the text. stopwords are the common words such as ‘a’, ‘an’, ‘the’, ‘this’, etc which again don’t add much meaning to the data and should be removed. This improves the computational time and also free up the database space."
   ]
  },
  {
   "cell_type": "code",
   "execution_count": 47,
   "metadata": {},
   "outputs": [
    {
     "name": "stdout",
     "output_type": "stream",
     "text": [
      "{'some', 'have', 'we', 'only', 'as', 'shan', 'yours', 'out', \"won't\", 'yourselves', 'more', 'should', 'but', 'this', 'no', 'because', 'be', 'y', 'needn', 'same', 'did', 'couldn', 'and', 'over', 'my', 'above', 'by', 'on', 'most', \"she's\", 'here', 'so', 'theirs', 'won', 'herself', 'wasn', 'down', \"you've\", 'isn', 'not', 'of', \"hadn't\", 'does', \"shan't\", 'you', 'all', 'very', \"isn't\", 'o', 'yourself', 'themselves', 'that', 't', 'd', \"don't\", \"mightn't\", 'shouldn', 'were', 'him', 'about', 'from', 'itself', 'there', 'other', 'do', \"aren't\", \"shouldn't\", 'mightn', 'he', 'himself', 'these', 'nor', 'just', 'into', 'during', 'such', 'doing', \"you'd\", 'wouldn', 'the', 'our', 'mustn', 'few', 'those', \"couldn't\", 'further', 'below', 'under', 'with', 'what', 'an', 'ma', 'she', \"you're\", 'when', 'aren', 'weren', 'again', 'how', \"didn't\", \"you'll\", \"it's\", 'hers', \"should've\", 'whom', 'can', \"needn't\", 'haven', 'for', 'being', 'her', \"haven't\", 'at', \"doesn't\", 'having', 'after', 'then', 'now', 'are', 'both', \"weren't\", 'had', 've', 'to', 'it', 'll', 're', 'off', 'a', 'while', 'before', 'once', \"that'll\", 'where', 'or', 'in', \"wasn't\", 'each', 'why', \"wouldn't\", 'ain', 'm', 'don', 'am', 'any', 'between', \"hasn't\", 'its', 'myself', 'me', 'who', 'was', 'i', 'didn', 'will', 'up', 'through', 'own', 'his', 'which', 'has', 'been', 'doesn', 'against', 's', 'your', 'if', 'their', 'until', 'ours', 'too', 'ourselves', 'hadn', 'they', 'than', 'hasn', \"mustn't\", 'is', 'them'}\n"
     ]
    }
   ],
   "source": [
    "from nltk.corpus import stopwords\n",
    "stop_words=set(stopwords.words(\"english\"))\n",
    "print(stop_words)"
   ]
  },
  {
   "cell_type": "code",
   "execution_count": 48,
   "metadata": {},
   "outputs": [
    {
     "name": "stdout",
     "output_type": "stream",
     "text": [
      "Tokenized Sentence: ['it', 'has', 'become', 'imperative', 'for', 'an', 'organization', 'to', 'have', 'a', 'structure', 'in', 'place', 'to', 'mine', 'actionable', 'insights', 'from', 'the', 'text', 'being', 'generated', 'from', 'social', 'media', 'analytics', 'to', 'risk', 'management', 'and', 'cybercrime', 'protection', 'dealing', 'with', 'text', 'data', 'has', 'never', 'been', 'more', 'important']\n",
      "-----------------------------------------------------------------------------------------------------\n",
      "After removing Stop words: ['become', 'imperative', 'organization', 'structure', 'place', 'mine', 'actionable', 'insights', 'text', 'generated', 'social', 'media', 'analytics', 'risk', 'management', 'cybercrime', 'protection', 'dealing', 'text', 'data', 'never', 'important']\n"
     ]
    }
   ],
   "source": [
    "filtered_data=[]\n",
    "for w in tokens:\n",
    "    if w not in stop_words:\n",
    "        filtered_data.append(w)\n",
    "print(\"Tokenized Sentence:\",tokens)\n",
    "print(\"-----------------------------------------------------------------------------------------------------\")\n",
    "print(\"After removing Stop words:\",filtered_data)"
   ]
  },
  {
   "cell_type": "markdown",
   "metadata": {},
   "source": [
    "## Stemming:\n",
    "It is the process of converting a word into its root or base form. Also, the prefixes or suffixes get removed from a word that results in a word that may or may not be meaningful.\n",
    "###              e.g : running ---> run\n",
    "###               generated ---> gener\n"
   ]
  },
  {
   "cell_type": "code",
   "execution_count": 49,
   "metadata": {},
   "outputs": [
    {
     "name": "stdout",
     "output_type": "stream",
     "text": [
      "After removing Stop words: ['become', 'imperative', 'organization', 'structure', 'place', 'mine', 'actionable', 'insights', 'text', 'generated', 'social', 'media', 'analytics', 'risk', 'management', 'cybercrime', 'protection', 'dealing', 'text', 'data', 'never', 'important']\n",
      "-------------------------------------------------------------------------------------\n",
      "After Stemming: ['becom', 'imper', 'organ', 'structur', 'place', 'mine', 'action', 'insight', 'text', 'gener', 'social', 'media', 'analyt', 'risk', 'manag', 'cybercrim', 'protect', 'deal', 'text', 'data', 'never', 'import']\n"
     ]
    }
   ],
   "source": [
    "from nltk.stem.porter import PorterStemmer\n",
    "porter = PorterStemmer()\n",
    "stemmed_words=[]\n",
    "for w in filtered_data:\n",
    "    stemmed_words.append(porter.stem(w))\n",
    "\n",
    "print(\"After removing Stop words:\",filtered_data)\n",
    "print(\"-------------------------------------------------------------------------------------\")\n",
    "print(\"After Stemming:\",stemmed_words)"
   ]
  },
  {
   "cell_type": "markdown",
   "metadata": {},
   "source": [
    "## Lemmatization: it is a process that is similar to stemming that is converting a word into its root or base form but unlike stemming it always returns a proper word that can be found in a dictionary.\n",
    "\n",
    "### e.g. generated ---> generate"
   ]
  },
  {
   "cell_type": "code",
   "execution_count": 50,
   "metadata": {},
   "outputs": [
    {
     "data": {
      "text/plain": [
       "['become',\n",
       " 'imperative',\n",
       " 'organization',\n",
       " 'structure',\n",
       " 'place',\n",
       " 'mine',\n",
       " 'actionable',\n",
       " 'insights',\n",
       " 'text',\n",
       " 'generate',\n",
       " 'social',\n",
       " 'media',\n",
       " 'analytics',\n",
       " 'risk',\n",
       " 'management',\n",
       " 'cybercrime',\n",
       " 'protection',\n",
       " 'deal',\n",
       " 'text',\n",
       " 'data',\n",
       " 'never',\n",
       " 'important']"
      ]
     },
     "execution_count": 50,
     "metadata": {},
     "output_type": "execute_result"
    }
   ],
   "source": [
    "from nltk.stem import WordNetLemmatizer\n",
    "lemmatizer = WordNetLemmatizer()\n",
    "lem_data = []\n",
    "for word in filtered_data:\n",
    "    lem_data.append(lemmatizer.lemmatize(word, 'v'))\n",
    "\n",
    "lem_data"
   ]
  },
  {
   "cell_type": "markdown",
   "metadata": {},
   "source": [
    "### Stemming vs Lemmatization\n",
    "Stemming and Lemmatization both generate the root form of the  words. The difference is that stem might not be an actual word whereas, lemma is an actual language word.\n",
    "\n",
    "Stemming follows an algorithm with steps to perform on the words which makes it faster. \n",
    "\n",
    "Whereas, in lemmatization, you used WordNet corpus and a corpus for stop words as well to produce lemma which makes it slower than stemming. You also had to define a parts-of-speech to obtain the correct lemma.\n",
    "\n",
    "If you lemmatize the word 'Caring', it would return 'Care'. \n",
    "If you stem, it would return 'Car' and this is erroneous.\n",
    "\n",
    "Words such as walking, running, swimming will return walk, run, swim for both stemming and lemmatize"
   ]
  },
  {
   "cell_type": "markdown",
   "metadata": {},
   "source": [
    "### POS Tagging\n",
    "The primary target of Part-of-Speech(POS) tagging is to identify the grammatical group of a given word. Whether it is a NOUN, PRONOUN, ADJECTIVE, VERB, ADVERBS, etc. based on the context. POS Tagging looks for relationships within the sentence and assigns a corresponding tag to the word.\n",
    "\n",
    "If no POS Tag is provided to WordNetLemmatizer, It defaults to nouns."
   ]
  },
  {
   "cell_type": "code",
   "execution_count": 51,
   "metadata": {},
   "outputs": [
    {
     "data": {
      "text/plain": [
       "[('it', 'PRP'),\n",
       " ('has', 'VBZ'),\n",
       " ('become', 'VBN'),\n",
       " ('imperative', 'JJ'),\n",
       " ('for', 'IN'),\n",
       " ('an', 'DT'),\n",
       " ('organization', 'NN'),\n",
       " ('to', 'TO'),\n",
       " ('have', 'VB'),\n",
       " ('a', 'DT'),\n",
       " ('structure', 'NN'),\n",
       " ('in', 'IN'),\n",
       " ('place', 'NN'),\n",
       " ('to', 'TO'),\n",
       " ('mine', 'VB'),\n",
       " ('actionable', 'JJ'),\n",
       " ('insights', 'NNS'),\n",
       " ('from', 'IN'),\n",
       " ('the', 'DT'),\n",
       " ('text', 'NN'),\n",
       " ('being', 'VBG'),\n",
       " ('generated', 'VBN'),\n",
       " ('from', 'IN'),\n",
       " ('social', 'JJ'),\n",
       " ('media', 'NNS'),\n",
       " ('analytics', 'NNS'),\n",
       " ('to', 'TO'),\n",
       " ('risk', 'VB'),\n",
       " ('management', 'NN'),\n",
       " ('and', 'CC'),\n",
       " ('cybercrime', 'NN'),\n",
       " ('protection', 'NN'),\n",
       " ('dealing', 'VBG'),\n",
       " ('with', 'IN'),\n",
       " ('text', 'NN'),\n",
       " ('data', 'NNS'),\n",
       " ('has', 'VBZ'),\n",
       " ('never', 'RB'),\n",
       " ('been', 'VBN'),\n",
       " ('more', 'RBR'),\n",
       " ('important', 'JJ')]"
      ]
     },
     "execution_count": 51,
     "metadata": {},
     "output_type": "execute_result"
    }
   ],
   "source": [
    "nltk.pos_tag(tokens)"
   ]
  },
  {
   "cell_type": "code",
   "execution_count": 52,
   "metadata": {},
   "outputs": [
    {
     "name": "stdout",
     "output_type": "stream",
     "text": [
      "VBZ: verb, present tense, 3rd person singular\n",
      "    bases reconstructs marks mixes displeases seals carps weaves snatches\n",
      "    slumps stretches authorizes smolders pictures emerges stockpiles\n",
      "    seduces fizzes uses bolsters slaps speaks pleads ...\n"
     ]
    }
   ],
   "source": [
    "nltk.help.upenn_tagset(\"VBZ\")"
   ]
  },
  {
   "attachments": {
    "image.png": {
     "image/png": "[encoded data removed]"
    }
   },
   "cell_type": "markdown",
   "metadata": {},
   "source": [
    "### Vectorization\n",
    "After we have normalized the text, we can take the next step of actually encoding it in a numerical form. \n",
    "This is done by text vectorization—that is, by turning a piece of text into a vector.\n",
    "\n",
    "Common approaches include:\n",
    "\n",
    "- Term Frequency-Inverse Document Frequency (TF-IDF) vectorization\n",
    "- Word embedding, as done with Word2vec or Global Vectors (GloVe)\n",
    "\n",
    "![image.png](attachment:image.png)"
   ]
  },
  {
   "cell_type": "code",
   "execution_count": null,
   "metadata": {},
   "outputs": [],
   "source": []
  },
  {
   "cell_type": "code",
   "execution_count": null,
   "metadata": {},
   "outputs": [],
   "source": []
  }
 ],
 "metadata": {
  "kernelspec": {
   "display_name": "Python 3 (ipykernel)",
   "language": "python",
   "name": "python3"
  },
  "language_info": {
   "codemirror_mode": {
    "name": "ipython",
    "version": 3
   },
   "file_extension": ".py",
   "mimetype": "text/x-python",
   "name": "python",
   "nbconvert_exporter": "python",
   "pygments_lexer": "ipython3",
   "version": "3.9.7"
  }
 },
 "nbformat": 4,
 "nbformat_minor": 4
}
